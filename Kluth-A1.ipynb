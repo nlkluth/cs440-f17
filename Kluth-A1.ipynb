{
 "cells": [
  {
   "cell_type": "markdown",
   "metadata": {},
   "source": [
    "# Assignment 1: Uninformed Search"
   ]
  },
  {
   "cell_type": "markdown",
   "metadata": {},
   "source": [
    "Nathan Kluth"
   ]
  },
  {
   "cell_type": "markdown",
   "metadata": {},
   "source": [
    "## Overview"
   ]
  },
  {
   "cell_type": "markdown",
   "metadata": {},
   "source": [
    "For this assignment I have implemented Breadth-first and depth-first search.\n",
    "\n",
    "Breadth-first and depth-first are two algorithms for performing\n",
    "uninformed search---a search that does not use\n",
    "knowledge about the goal of the search.  Below is an implementation of both\n",
    "search algorithms in python."
   ]
  },
  {
   "cell_type": "markdown",
   "metadata": {},
   "source": [
    "## Included Code"
   ]
  },
  {
   "cell_type": "markdown",
   "metadata": {},
   "source": [
    "In this jupyter notebook, I have implemented the following functions:\n",
    "\n",
    "  * `breadthFirstSearch(startState, goalState, successorsf)` \n",
    "  * `depthFirstSearch(startState, goalState, successorsf)`\n",
    "  \n",
    "Each receives as arguments the starting state, the goal state, and a successors function.  `breadthFirstSearch` returns the breadth-first solution path as a list of states starting with the `startState` and ending with the `goalState`.  `depthFirstSearch` returns the depth-first solution path.\n",
    "\n",
    "The functions implement the search algorithm as specified in [A3 Problem-Solving Agents](http://nbviewer.jupyter.org/url/www.cs.colostate.edu/~anderson/cs440/notebooks/03 Problem-Solving Agents.ipynb) lecture notes. Each function wraps the main search function, which implements the algorithm."
   ]
  },
  {
   "cell_type": "markdown",
   "metadata": {},
   "source": [
    "# Examples"
   ]
  },
  {
   "cell_type": "markdown",
   "metadata": {},
   "source": [
    "Here is a simple example.  States are defined by lower case letters.  A dictionary stores a list of successor states for each state in the graph that has successors."
   ]
  },
  {
   "cell_type": "code",
   "execution_count": 248,
   "metadata": {},
   "outputs": [
    {
     "data": {
      "text/plain": [
       "{'a': ['b', 'c', 'd'],\n",
       " 'b': ['e', 'f', 'g'],\n",
       " 'c': ['a', 'h', 'i'],\n",
       " 'd': ['j', 'z'],\n",
       " 'e': ['k', 'l'],\n",
       " 'g': ['m'],\n",
       " 'k': ['z']}"
      ]
     },
     "execution_count": 248,
     "metadata": {},
     "output_type": "execute_result"
    }
   ],
   "source": [
    "successors = {'a':  ['b', 'c', 'd'],\n",
    "              'b':  ['e', 'f', 'g'],\n",
    "              'c':  ['a', 'h', 'i'],\n",
    "              'd':  ['j', 'z'],\n",
    "              'e':  ['k', 'l'],\n",
    "              'g':  ['m'],\n",
    "              'k':  ['z']}\n",
    "successors"
   ]
  },
  {
   "cell_type": "markdown",
   "metadata": {},
   "source": [
    "## Setup"
   ]
  },
  {
   "cell_type": "markdown",
   "metadata": {},
   "source": [
    "The search functions accept a sucessor function which allows them to be used on other puzzles. For the simple graph search I will use the function below"
   ]
  },
  {
   "cell_type": "code",
   "execution_count": 249,
   "metadata": {
    "collapsed": true
   },
   "outputs": [],
   "source": [
    "import copy\n",
    "\n",
    "def successorsf(state):\n",
    "    \"\"\"simple successors function that returns the list at the given value\"\"\"\n",
    "    return copy.copy(successors.get(state, []))"
   ]
  },
  {
   "cell_type": "code",
   "execution_count": 250,
   "metadata": {},
   "outputs": [
    {
     "data": {
      "text/plain": [
       "['k', 'l']"
      ]
     },
     "execution_count": 250,
     "metadata": {},
     "output_type": "execute_result"
    }
   ],
   "source": [
    "successorsf('e') # grab the values at position e"
   ]
  },
  {
   "cell_type": "markdown",
   "metadata": {},
   "source": [
    "# Function"
   ]
  },
  {
   "cell_type": "code",
   "execution_count": 251,
   "metadata": {
    "collapsed": true
   },
   "outputs": [],
   "source": [
    "def search(startState, goalState, successorsf, breadthFirst):\n",
    "    \"\"\" runs either breadthFirst or depthFirset search depending on breadthFirst\n",
    "    boolean provided as last argument. this search function is called by the lower\n",
    "    breadthFirst or depthFirst functions\n",
    "    \n",
    "    startState is the first node to search from\n",
    "    goalState is the desired destination node\n",
    "    successorsf is action performed at each step on the children nodes\n",
    "    breadthFirst is a boolean that determines subsequent runs\n",
    "    \"\"\"\n",
    "    \n",
    "    #initial states\n",
    "    unExpanded = [(startState, None)]\n",
    "    expanded = {}\n",
    "    \n",
    "    # save time by returning early if goalState is startState\n",
    "    if (startState == goalState):\n",
    "        return [startState]\n",
    "    \n",
    "    # used to check if item is in unExpanded list arleady and should be removed\n",
    "    def exists(child):\n",
    "        for item in unExpanded:\n",
    "            if(item[0] == child):\n",
    "                return True\n",
    "        return False\n",
    "    \n",
    "    # assign parent to child\n",
    "    def makePair(child):\n",
    "        return (child, state)\n",
    "\n",
    "    \n",
    "    # search loop\n",
    "    while (unExpanded):\n",
    "        (state, parent) = unExpanded.pop() # pop from end of unexpanded\n",
    "        children = successorsf(state) # find children of state\n",
    "        \n",
    "        expanded[state] = parent; # add state to expanded list\n",
    "\n",
    "        # remove children that have already been expanded or found to prevent infinite loop\n",
    "        for child in children[:]:\n",
    "            if (exists(child) or expanded.get(child) or startState == child):                \n",
    "                children.remove(child)\n",
    "\n",
    "        # success case\n",
    "        if (goalState in children):\n",
    "            path = [state, goalState]\n",
    "            while parent:\n",
    "                path = [parent] + path\n",
    "                parent = expanded[parent]\n",
    "\n",
    "            return path\n",
    "\n",
    "        children.sort(reverse=True) # sort for grading (ensure same results)\n",
    "        modifiedChildren = list(map(makePair, children)) # make new list of children with parent\n",
    "        # create new list to work through\n",
    "        if (breadthFirst): \n",
    "            unExpanded = modifiedChildren + unExpanded \n",
    "        else: \n",
    "            unExpanded = unExpanded + modifiedChildren"
   ]
  },
  {
   "cell_type": "markdown",
   "metadata": {},
   "source": [
    "### Breadth-First search"
   ]
  },
  {
   "cell_type": "code",
   "execution_count": 252,
   "metadata": {
    "collapsed": true
   },
   "outputs": [],
   "source": [
    "def breadthFirstSearch(startState, goalState, successorsf):\n",
    "    \"\"\"convenience wrapper for search function described above\n",
    "    Follows breadthFirstSearch to find path from startState to goalState.\n",
    "    Breadth-first search completely explores each level of the search \n",
    "    space before proceeding to the next.\"\"\"\n",
    "    \n",
    "    return search(startState, goalState, successorsf, True)\n",
    "        "
   ]
  },
  {
   "cell_type": "code",
   "execution_count": 253,
   "metadata": {},
   "outputs": [
    {
     "name": "stdout",
     "output_type": "stream",
     "text": [
      "Breadth-first\n",
      "path from a to a is ['a']\n",
      "path from a to m is ['a', 'b', 'g', 'm']\n",
      "path from a to z is ['a', 'd', 'z']\n"
     ]
    }
   ],
   "source": [
    "print('Breadth-first')\n",
    "print('path from a to a is', breadthFirstSearch('a', 'a', successorsf))\n",
    "print('path from a to m is', breadthFirstSearch('a', 'm', successorsf))\n",
    "print('path from a to z is', breadthFirstSearch('a', 'z', successorsf))"
   ]
  },
  {
   "cell_type": "markdown",
   "metadata": {},
   "source": [
    "### Depth-first search"
   ]
  },
  {
   "cell_type": "code",
   "execution_count": 254,
   "metadata": {
    "collapsed": true
   },
   "outputs": [],
   "source": [
    "def depthFirstSearch(startState, goalState, successorsf):\n",
    "    \"\"\"convenience wrapper for search function described above\n",
    "    Follows depthFirstSearch to find path from startState to goalState.\n",
    "    Depth-first search completely explores a path until it ends, \n",
    "    then backs up a level and tries again.\"\"\"\n",
    "    \n",
    "    return search(startState, goalState, successorsf, False)"
   ]
  },
  {
   "cell_type": "code",
   "execution_count": 255,
   "metadata": {},
   "outputs": [
    {
     "name": "stdout",
     "output_type": "stream",
     "text": [
      "Depth-first\n",
      "path from a to a is ['a']\n",
      "path from a to m is ['a', 'b', 'g', 'm']\n",
      "path from a to z is ['a', 'b', 'e', 'k', 'z']\n"
     ]
    }
   ],
   "source": [
    "print('Depth-first')\n",
    "print('path from a to a is', depthFirstSearch('a', 'a', successorsf))\n",
    "print('path from a to m is', depthFirstSearch('a', 'm', successorsf))\n",
    "print('path from a to z is', depthFirstSearch('a', 'z', successorsf))"
   ]
  },
  {
   "cell_type": "markdown",
   "metadata": {},
   "source": [
    "# Other puzzles\n",
    "\n",
    "The following code illustrates one possible state representation and shows results of a breadth-first and a dept-first search.  The example search uses a new camelSuccessorsf that shows how breadthFirstSearch and depthFirstSearch can use this callback to achieve different results. This means that the two search methods can be used on other puzzles! The rules for camelSuccessorsf are described [here](http://www.folj.com/puzzles/)."
   ]
  },
  {
   "cell_type": "code",
   "execution_count": 256,
   "metadata": {
    "collapsed": true
   },
   "outputs": [],
   "source": [
    "def camelSuccessorsf(state):\n",
    "    \"\"\"expects a tuple of R and L camels along with a space in between\n",
    "    eg ('R', 'R', 'R', 'R', ' ', 'L', 'L', 'L', 'L')\n",
    "    returns the next states possible - if camel has room to move\n",
    "    it can move forward, if a camel can climb over it can move to the 2nd space\n",
    "    \"\"\"\n",
    "    \n",
    "    succs = []\n",
    "    for index, camel in enumerate(state): # there is probably a better way to do this in python\n",
    "        # camel has space to move\n",
    "        if (camel == 'R' and len(state) > index+1 and state[index+1] == ' '):\n",
    "            newState = list(state)\n",
    "            newState[index+1] = 'R'\n",
    "            newState[index] = ' '\n",
    "            succs.append(tuple(newState))\n",
    "        if (camel == 'L' and index - 1 > -1 and state[index-1] == ' '):\n",
    "            newState = list(state)\n",
    "            newState[index-1] = 'L'\n",
    "            newState[index] = ' '\n",
    "            succs.append(tuple(newState))\n",
    "            \n",
    "        # camel has space to climb over\n",
    "        if (camel == 'R' and len(state) > index+2 and state[index+1] == 'L' and state[index+2] == ' '):\n",
    "            newState = list(state)\n",
    "            newState[index] = ' '\n",
    "            newState[index+2] = 'R'\n",
    "            succs.append(tuple(newState))\n",
    "        if (camel == 'L' and index - 2 > -1 and state[index-1] == 'R' and state[index-2] == ' '):\n",
    "            newState = list(state)\n",
    "            newState[index] = ' '\n",
    "            newState[index-2] = 'L'\n",
    "            succs.append(tuple(newState))\n",
    "            \n",
    "    \n",
    "    return succs"
   ]
  },
  {
   "cell_type": "code",
   "execution_count": 257,
   "metadata": {
    "collapsed": true
   },
   "outputs": [],
   "source": [
    "camelStartState = ('R', 'R', 'R', 'R', ' ', 'L', 'L', 'L', 'L')"
   ]
  },
  {
   "cell_type": "code",
   "execution_count": 258,
   "metadata": {
    "collapsed": true
   },
   "outputs": [],
   "source": [
    "camelGoalState = ('L', 'L', 'L', 'L', ' ', 'R', 'R', 'R', 'R')"
   ]
  },
  {
   "cell_type": "code",
   "execution_count": 259,
   "metadata": {},
   "outputs": [
    {
     "data": {
      "text/plain": [
       "[('R', 'R', 'R', ' ', 'R', 'L', 'L', 'L', 'L'),\n",
       " ('R', 'R', 'R', 'R', 'L', ' ', 'L', 'L', 'L')]"
      ]
     },
     "execution_count": 259,
     "metadata": {},
     "output_type": "execute_result"
    }
   ],
   "source": [
    "camelSuccessorsf(camelStartState)"
   ]
  },
  {
   "cell_type": "code",
   "execution_count": 260,
   "metadata": {},
   "outputs": [
    {
     "name": "stdout",
     "output_type": "stream",
     "text": [
      "('R', 'R', 'R', ' ', 'R', 'L', 'L', 'L', 'L')\n"
     ]
    },
    {
     "data": {
      "text/plain": [
       "[('R', 'R', ' ', 'R', 'R', 'L', 'L', 'L', 'L'),\n",
       " ('R', 'R', 'R', 'L', 'R', ' ', 'L', 'L', 'L')]"
      ]
     },
     "execution_count": 260,
     "metadata": {},
     "output_type": "execute_result"
    }
   ],
   "source": [
    "children = camelSuccessorsf(camelStartState)\n",
    "print(children[0])\n",
    "camelSuccessorsf(children[0])"
   ]
  },
  {
   "cell_type": "code",
   "execution_count": 261,
   "metadata": {},
   "outputs": [
    {
     "name": "stdout",
     "output_type": "stream",
     "text": [
      "Breadth-first solution: ( 25 steps)\n",
      "('R', 'R', 'R', 'R', ' ', 'L', 'L', 'L', 'L')\n",
      "('R', 'R', 'R', ' ', 'R', 'L', 'L', 'L', 'L')\n",
      "('R', 'R', 'R', 'L', 'R', ' ', 'L', 'L', 'L')\n",
      "('R', 'R', 'R', 'L', 'R', 'L', ' ', 'L', 'L')\n",
      "('R', 'R', 'R', 'L', ' ', 'L', 'R', 'L', 'L')\n",
      "('R', 'R', ' ', 'L', 'R', 'L', 'R', 'L', 'L')\n",
      "('R', ' ', 'R', 'L', 'R', 'L', 'R', 'L', 'L')\n",
      "('R', 'L', 'R', ' ', 'R', 'L', 'R', 'L', 'L')\n",
      "('R', 'L', 'R', 'L', 'R', ' ', 'R', 'L', 'L')\n",
      "('R', 'L', 'R', 'L', 'R', 'L', 'R', ' ', 'L')\n",
      "('R', 'L', 'R', 'L', 'R', 'L', 'R', 'L', ' ')\n",
      "('R', 'L', 'R', 'L', 'R', 'L', ' ', 'L', 'R')\n",
      "('R', 'L', 'R', 'L', ' ', 'L', 'R', 'L', 'R')\n",
      "('R', 'L', ' ', 'L', 'R', 'L', 'R', 'L', 'R')\n",
      "(' ', 'L', 'R', 'L', 'R', 'L', 'R', 'L', 'R')\n",
      "('L', ' ', 'R', 'L', 'R', 'L', 'R', 'L', 'R')\n",
      "('L', 'L', 'R', ' ', 'R', 'L', 'R', 'L', 'R')\n",
      "('L', 'L', 'R', 'L', 'R', ' ', 'R', 'L', 'R')\n",
      "('L', 'L', 'R', 'L', 'R', 'L', 'R', ' ', 'R')\n",
      "('L', 'L', 'R', 'L', 'R', 'L', ' ', 'R', 'R')\n",
      "('L', 'L', 'R', 'L', ' ', 'L', 'R', 'R', 'R')\n",
      "('L', 'L', ' ', 'L', 'R', 'L', 'R', 'R', 'R')\n",
      "('L', 'L', 'L', ' ', 'R', 'L', 'R', 'R', 'R')\n",
      "('L', 'L', 'L', 'L', 'R', ' ', 'R', 'R', 'R')\n",
      "('L', 'L', 'L', 'L', ' ', 'R', 'R', 'R', 'R')\n",
      "Depth-first solution: ( 25 steps)\n",
      "('R', 'R', 'R', 'R', ' ', 'L', 'L', 'L', 'L')\n",
      "('R', 'R', 'R', ' ', 'R', 'L', 'L', 'L', 'L')\n",
      "('R', 'R', 'R', 'L', 'R', ' ', 'L', 'L', 'L')\n",
      "('R', 'R', 'R', 'L', 'R', 'L', ' ', 'L', 'L')\n",
      "('R', 'R', 'R', 'L', ' ', 'L', 'R', 'L', 'L')\n",
      "('R', 'R', ' ', 'L', 'R', 'L', 'R', 'L', 'L')\n",
      "('R', ' ', 'R', 'L', 'R', 'L', 'R', 'L', 'L')\n",
      "('R', 'L', 'R', ' ', 'R', 'L', 'R', 'L', 'L')\n",
      "('R', 'L', 'R', 'L', 'R', ' ', 'R', 'L', 'L')\n",
      "('R', 'L', 'R', 'L', 'R', 'L', 'R', ' ', 'L')\n",
      "('R', 'L', 'R', 'L', 'R', 'L', 'R', 'L', ' ')\n",
      "('R', 'L', 'R', 'L', 'R', 'L', ' ', 'L', 'R')\n",
      "('R', 'L', 'R', 'L', ' ', 'L', 'R', 'L', 'R')\n",
      "('R', 'L', ' ', 'L', 'R', 'L', 'R', 'L', 'R')\n",
      "(' ', 'L', 'R', 'L', 'R', 'L', 'R', 'L', 'R')\n",
      "('L', ' ', 'R', 'L', 'R', 'L', 'R', 'L', 'R')\n",
      "('L', 'L', 'R', ' ', 'R', 'L', 'R', 'L', 'R')\n",
      "('L', 'L', 'R', 'L', 'R', ' ', 'R', 'L', 'R')\n",
      "('L', 'L', 'R', 'L', 'R', 'L', 'R', ' ', 'R')\n",
      "('L', 'L', 'R', 'L', 'R', 'L', ' ', 'R', 'R')\n",
      "('L', 'L', 'R', 'L', ' ', 'L', 'R', 'R', 'R')\n",
      "('L', 'L', ' ', 'L', 'R', 'L', 'R', 'R', 'R')\n",
      "('L', 'L', 'L', ' ', 'R', 'L', 'R', 'R', 'R')\n",
      "('L', 'L', 'L', 'L', 'R', ' ', 'R', 'R', 'R')\n",
      "('L', 'L', 'L', 'L', ' ', 'R', 'R', 'R', 'R')\n"
     ]
    }
   ],
   "source": [
    "bfs = breadthFirstSearch(camelStartState, camelGoalState, camelSuccessorsf)\n",
    "print('Breadth-first solution: (', len(bfs), 'steps)')\n",
    "for s in bfs:\n",
    "    print(s)\n",
    "\n",
    "dfs = depthFirstSearch(camelStartState, camelGoalState, camelSuccessorsf)\n",
    "print('Depth-first solution: (', len(dfs), 'steps)')\n",
    "for s in dfs:\n",
    "    print(s)"
   ]
  }
 ],
 "metadata": {
  "anaconda-cloud": {},
  "kernelspec": {
   "display_name": "Python 3",
   "language": "python",
   "name": "python3"
  },
  "language_info": {
   "codemirror_mode": {
    "name": "ipython",
    "version": 3
   },
   "file_extension": ".py",
   "mimetype": "text/x-python",
   "name": "python",
   "nbconvert_exporter": "python",
   "pygments_lexer": "ipython3",
   "version": "3.6.1"
  }
 },
 "nbformat": 4,
 "nbformat_minor": 1
}
