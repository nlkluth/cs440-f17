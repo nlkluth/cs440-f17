{
 "cells": [
  {
   "cell_type": "markdown",
   "metadata": {},
   "source": [
    "# Reinforcement Learning Solution to the Towers of Hanoi Puzzle"
   ]
  },
  {
   "cell_type": "markdown",
   "metadata": {},
   "source": [
    "For this assignment, I will use reinforcement learning to solve the [Towers of Hanoi](https://en.wikipedia.org/wiki/Tower_of_Hanoi) puzzle.  \n",
    "\n",
    "Steps required to do this include the following:\n",
    "\n",
    "  - Represent the state, and use it as a tuple as a key to the Q dictionary.\n",
    "  - Make sure only valid moves are tried from each state.\n",
    "  - Assign reinforcement of $1$ to each move unless it is a move to the goal state, for which the reinforcement is $0$.  This represents the goal of finding the shortest path to the goal.\n",
    "\n",
    "Make a plot of the number of steps required to reach the goal for each\n",
    "trial.  Each trial starts from the same initial state.  Decay epsilon\n",
    "as in the Tic-Tac-Toe code."
   ]
  },
  {
   "cell_type": "markdown",
   "metadata": {},
   "source": [
    "## Requirements"
   ]
  },
  {
   "cell_type": "markdown",
   "metadata": {},
   "source": [
    "In order to represent the state of the puzzle, I will keep track of which disks are on which pegs with a list of integers per peg. \n",
    "\n",
    "For example, the starting state with all disks being on the left peg would be `[[1, 2, 3], [], []]`.  After moving disk 1 to peg 2, we have `[[2, 3], [1], []]`.\n",
    "\n",
    "To represent that move we just made, we can use a list of two peg numbers, like `[1, 2]`, representing a move of the top disk on peg 1 to peg 2."
   ]
  },
  {
   "cell_type": "markdown",
   "metadata": {},
   "source": [
    "# Required Functions"
   ]
  },
  {
   "cell_type": "markdown",
   "metadata": {},
   "source": [
    "Herer are the functions I will use within the main function:\n",
    "\n",
    "   - `printState(state)`: prints the state in the form shown below\n",
    "   - `validMoves(state)`: returns list of moves that are valid from `state`\n",
    "   - `makeMove(state, move)`: returns new (copy of) state after move has been applied.\n",
    "   - `trainQ(nRepetitions, learningRate, epsilonDecayFactor)`: train the Q function for number of repetitions, decaying epsilon at start of each repetition. Returns Q and list or array of steps to reach goal for each repetition.\n",
    "   - `testQ(Q, maxSteps)`: without updating Q, use Q to find greedy action each step until goal is found. Return path of states.\n",
    "   - `stateMoveTuple(state, move)`: returns tuple of state and move. This is useful for converting state and move to a key to be used for the Q dictionary."
   ]
  },
  {
   "cell_type": "code",
   "execution_count": 242,
   "metadata": {
    "collapsed": true
   },
   "outputs": [],
   "source": [
    "import copy as cp\n",
    "\n",
    "def printState(state):\n",
    "    printedLists = cp.deepcopy(state)\n",
    "    for list in printedLists:\n",
    "        spaces = [' '] * (3 - len(list))\n",
    "        list[0:0] = spaces\n",
    "    \n",
    "    print(\"{} {} {}\".format(printedLists[0][0], printedLists[1][0], printedLists[2][0]))\n",
    "    print(\"{} {} {}\".format(printedLists[0][1], printedLists[1][1], printedLists[2][1]))\n",
    "    print(\"{} {} {}\".format(printedLists[0][2], printedLists[1][2], printedLists[2][2]))\n",
    "    print('------')"
   ]
  },
  {
   "cell_type": "code",
   "execution_count": 243,
   "metadata": {},
   "outputs": [
    {
     "name": "stdout",
     "output_type": "stream",
     "text": [
      "1    \n",
      "2    \n",
      "3    \n",
      "------\n"
     ]
    }
   ],
   "source": [
    "state = [[1, 2, 3], [], []]\n",
    "printState(state)"
   ]
  },
  {
   "cell_type": "code",
   "execution_count": 244,
   "metadata": {
    "collapsed": true
   },
   "outputs": [],
   "source": [
    "def validMoves(state):\n",
    "    \"\"\" given the state of columns, generate possible next\n",
    "    states and return list of moves [fromColumn, toColumn]\"\"\"\n",
    "    \n",
    "    actions = []\n",
    "    for (idx, column) in enumerate(state):\n",
    "        if len(column): # tower has disk\n",
    "            disk = column[0]\n",
    "            if (len(state) > idx + 1): # there is a column to the right\n",
    "                if (len(state[idx+1]) == 0 or state[idx+1][0] > disk): # column is empty OR has larger disk\n",
    "                    actions.append([idx+1, idx+2])\n",
    "            \n",
    "            if (idx > 0): # there is a column to the left\n",
    "                if (len(state[idx-1]) == 0 or state[idx-1][0] > disk): # column is empty OR has larger disk\n",
    "                    actions.append([idx+1, idx])\n",
    "                    \n",
    "            \n",
    "            if (idx > 1): # there is a column 2 to the left\n",
    "                if (len(state[idx-2]) == 0 or state[idx-2][0] > disk): # column is empty OR has larger disk\n",
    "                    actions.append([idx+1, idx-1])\n",
    "                    \n",
    "            if (len(state) > idx + 2): # there is a column 2 to the right\n",
    "                if (len(state[idx+2]) == 0 or state[idx+2][0] > disk): # column is empty OR has larger disk\n",
    "                    actions.append([idx+1, idx+3])\n",
    "    \n",
    "    return actions"
   ]
  },
  {
   "cell_type": "code",
   "execution_count": 245,
   "metadata": {},
   "outputs": [
    {
     "data": {
      "text/plain": [
       "[[1, 2], [1, 3]]"
      ]
     },
     "execution_count": 245,
     "metadata": {},
     "output_type": "execute_result"
    }
   ],
   "source": [
    "validMoves([[1, 2, 3], [], []])"
   ]
  },
  {
   "cell_type": "code",
   "execution_count": 246,
   "metadata": {},
   "outputs": [
    {
     "data": {
      "text/plain": [
       "[[1, 2], [3, 2], [3, 1]]"
      ]
     },
     "execution_count": 246,
     "metadata": {},
     "output_type": "execute_result"
    }
   ],
   "source": [
    "validMoves([[2, 3], [], [1]])"
   ]
  },
  {
   "cell_type": "code",
   "execution_count": 247,
   "metadata": {},
   "outputs": [
    {
     "data": {
      "text/plain": [
       "[[2, 1], [3, 2], [3, 1]]"
      ]
     },
     "execution_count": 247,
     "metadata": {},
     "output_type": "execute_result"
    }
   ],
   "source": [
    "validMoves([[3], [2], [1]])"
   ]
  },
  {
   "cell_type": "code",
   "execution_count": 248,
   "metadata": {
    "collapsed": true
   },
   "outputs": [],
   "source": [
    "def stateMoveTuple(state, move):\n",
    "    \"\"\" takes in state and move and converts\n",
    "    the three sub lists in state to tuples and move to tuple\n",
    "    and returns all nested in a parent tuple\"\"\"\n",
    "    return (tuple(state[0]), tuple(state[1]), tuple(state[2]), tuple(move))"
   ]
  },
  {
   "cell_type": "code",
   "execution_count": 249,
   "metadata": {},
   "outputs": [
    {
     "data": {
      "text/plain": [
       "((1, 2, 3), (), (), (1, 2))"
      ]
     },
     "execution_count": 249,
     "metadata": {},
     "output_type": "execute_result"
    }
   ],
   "source": [
    "move =[1, 2]\n",
    "\n",
    "stateMoveTuple(state, move)"
   ]
  },
  {
   "cell_type": "code",
   "execution_count": 250,
   "metadata": {
    "collapsed": true
   },
   "outputs": [],
   "source": [
    "import copy as cp\n",
    "\n",
    "def makeMove(state, move):\n",
    "    \"\"\" takes in the state of towers and the move to make in the form of\n",
    "    [fromTower, toTower] and moves the top disk of fromTower to the top of\n",
    "    toTower\"\"\"\n",
    "    \n",
    "    nextState = cp.deepcopy(state)\n",
    "    startPeg = move[0] - 1\n",
    "    endPeg = move[1] - 1\n",
    "    \n",
    "    nextState[endPeg].insert(0, nextState[startPeg][0])\n",
    "    del nextState[startPeg][0]\n",
    "    return nextState"
   ]
  },
  {
   "cell_type": "code",
   "execution_count": 251,
   "metadata": {},
   "outputs": [
    {
     "data": {
      "text/plain": [
       "[[2, 3], [1], []]"
      ]
     },
     "execution_count": 251,
     "metadata": {},
     "output_type": "execute_result"
    }
   ],
   "source": [
    "state\n",
    "newstate = makeMove(state, move)\n",
    "newstate"
   ]
  },
  {
   "cell_type": "code",
   "execution_count": 252,
   "metadata": {},
   "outputs": [
    {
     "name": "stdout",
     "output_type": "stream",
     "text": [
      "     \n",
      "2    \n",
      "3 1  \n",
      "------\n"
     ]
    }
   ],
   "source": [
    "printState(newstate)"
   ]
  },
  {
   "cell_type": "markdown",
   "metadata": {},
   "source": [
    "### Q functions\n",
    "\n",
    "Now time to implement Q, a function that will randomly guess a move and learn from the results. As the decayRate gets closer to the desired value, Q will stop guessing and take greedy actions more and more.\n",
    "\n",
    "I will be representing Q as a dictionary in python that consists of a key tuple (state, move) and a value of the state"
   ]
  },
  {
   "cell_type": "code",
   "execution_count": 253,
   "metadata": {},
   "outputs": [
    {
     "data": {
      "text/plain": [
       "{((1, 2, 3), (), (), (1, 2)): 0}"
      ]
     },
     "execution_count": 253,
     "metadata": {},
     "output_type": "execute_result"
    }
   ],
   "source": [
    "Q = {}  # empty table\n",
    "Q[stateMoveTuple(state, move)] = 0\n",
    "Q"
   ]
  },
  {
   "cell_type": "code",
   "execution_count": 254,
   "metadata": {},
   "outputs": [
    {
     "data": {
      "text/plain": [
       "0"
      ]
     },
     "execution_count": 254,
     "metadata": {},
     "output_type": "execute_result"
    }
   ],
   "source": [
    "Q.get(stateMoveTuple(state, move), 0)"
   ]
  },
  {
   "cell_type": "markdown",
   "metadata": {},
   "source": [
    "`get` handles undefined moves with a default:"
   ]
  },
  {
   "cell_type": "code",
   "execution_count": 255,
   "metadata": {},
   "outputs": [
    {
     "data": {
      "text/plain": [
       "42"
      ]
     },
     "execution_count": 255,
     "metadata": {},
     "output_type": "execute_result"
    }
   ],
   "source": [
    "Q.get(stateMoveTuple([[3, 2, 1], [8], [2]], (2, 2)), 42) # 42 is returned because the key doesn't exist"
   ]
  },
  {
   "cell_type": "markdown",
   "metadata": {},
   "source": [
    "This is a gameOver function that will return true if we hit the end state"
   ]
  },
  {
   "cell_type": "code",
   "execution_count": 256,
   "metadata": {
    "collapsed": true
   },
   "outputs": [],
   "source": [
    "def gameOver(state):\n",
    "    return state == [[], [], [1, 2, 3]]"
   ]
  },
  {
   "cell_type": "code",
   "execution_count": 257,
   "metadata": {},
   "outputs": [
    {
     "data": {
      "text/plain": [
       "False"
      ]
     },
     "execution_count": 257,
     "metadata": {},
     "output_type": "execute_result"
    }
   ],
   "source": [
    "gameOver([[1], [], [2, 3]])"
   ]
  },
  {
   "cell_type": "code",
   "execution_count": 258,
   "metadata": {},
   "outputs": [
    {
     "data": {
      "text/plain": [
       "True"
      ]
     },
     "execution_count": 258,
     "metadata": {},
     "output_type": "execute_result"
    }
   ],
   "source": [
    "gameOver([[], [], [1, 2, 3]])"
   ]
  },
  {
   "cell_type": "markdown",
   "metadata": {},
   "source": [
    "another helper function is `epsilonGreedy` which is going to choose whether to make a random move based on the epsilon value"
   ]
  },
  {
   "cell_type": "code",
   "execution_count": 259,
   "metadata": {
    "collapsed": true
   },
   "outputs": [],
   "source": [
    "import random\n",
    "import numpy as np\n",
    "\n",
    "def epsilonGreedy(epsilon, Q, state, validMovesF):\n",
    "    validMoves = validMovesF(state)\n",
    "    if np.random.uniform() < epsilon:\n",
    "        # Random Move\n",
    "        return random.choice(validMoves)\n",
    "    else:\n",
    "        # Greedy Move\n",
    "        Qs = np.array([Q.get(stateMoveTuple(state ,m), -1) for m in validMoves]) \n",
    "        return validMoves[ np.argmin(Qs) ]"
   ]
  },
  {
   "cell_type": "code",
   "execution_count": 260,
   "metadata": {},
   "outputs": [
    {
     "data": {
      "text/plain": [
       "[1, 3]"
      ]
     },
     "execution_count": 260,
     "metadata": {},
     "output_type": "execute_result"
    }
   ],
   "source": [
    "epsilonGreedy(0.8, Q, state, validMoves)"
   ]
  },
  {
   "cell_type": "markdown",
   "metadata": {},
   "source": [
    "## Plot\n",
    "\n",
    "This function will plot some values for us on a graph. It will get called by functions to show the results in a more pleasing way."
   ]
  },
  {
   "cell_type": "code",
   "execution_count": 261,
   "metadata": {
    "collapsed": true
   },
   "outputs": [],
   "source": [
    "import matplotlib.pyplot as plt\n",
    "%matplotlib inline"
   ]
  },
  {
   "cell_type": "code",
   "execution_count": 262,
   "metadata": {
    "collapsed": true
   },
   "outputs": [],
   "source": [
    "def plotOutcomes(steps, epsilons):\n",
    "    plt.plot(steps, epsilons)\n",
    "    plt.xlabel('epsilon')\n",
    "    plt.ylabel('Steps to goal')\n",
    "    plt.gca().invert_xaxis()"
   ]
  },
  {
   "cell_type": "code",
   "execution_count": 263,
   "metadata": {},
   "outputs": [
    {
     "data": {
      "image/png": "[encoded data removed]",
      "text/plain": [
       "<matplotlib.figure.Figure at 0x111a8b630>"
      ]
     },
     "metadata": {},
     "output_type": "display_data"
    }
   ],
   "source": [
    "plt.figure(figsize=(8,8))\n",
    "plotOutcomes([0.99, 0.7, 0.7],[1, 2, 3])\n",
    "\n"
   ]
  },
  {
   "cell_type": "markdown",
   "metadata": {},
   "source": [
    "## trainQ\n",
    "\n",
    "`trainQ` will handle building up the dictionary of Q values. It will run a given amount of times (solve the puzzle over and over that many times). \n",
    "\n",
    "Each time through it will use the same Q dictionary that has been getting updated. The dictionary values will be updated by the `learningRate`, so states that lead to a result fewer times will get a higher value. This means that the `epsilonGreedy` function will start to take moves determined to lead to an answer based of this value. It will choose those solutions more and more each playthrough. \n",
    "\n",
    "So, playthrough 1 will have many random guesses and take awhile to find out what the answer is, but the final playthrough will use the greedy result more and check for the best path based off the previous playthrough Q values."
   ]
  },
  {
   "cell_type": "code",
   "execution_count": 264,
   "metadata": {
    "collapsed": true
   },
   "outputs": [],
   "source": [
    "import numpy as np\n",
    "import copy as cp\n",
    "\n",
    "def trainQ(nRepetitions, learningRate, epsilonDecayFactor, validMovesF, makeMoveF):\n",
    "    \"\"\" train up a Q table of moves, returns Q and the table of steps to goal from states\n",
    "    nRepetitions = number of times to run the test\n",
    "    learningRate = rho, the rate at which to adjust previous values based on next value\n",
    "    epsilonDecayFactor = the rate to decay guesses vs. greedy moves\n",
    "    validMovesF = a function to return value possible moves to be made\n",
    "    makeMove = a function to apply the move to the state\"\"\"\n",
    "    \n",
    "    graphics = True\n",
    "    Q = {}\n",
    "    epsilon = 1.0\n",
    "    # track how many steps it took on each repetition, this hopefully gets lower as time goes on\n",
    "    stepsToGoal = np.zeros(nRepetitions)\n",
    "    epsilons = np.zeros(nRepetitions)\n",
    "    \n",
    "    if graphics == True:\n",
    "        plt.figure(figsize=(8,8))\n",
    "    \n",
    "    for rep in range(nRepetitions):\n",
    "        state = [[1, 2, 3], [], []] # starting state\n",
    "        done = False\n",
    "        epsilon *= epsilonDecayFactor\n",
    "        steps = 0 # start at zero steps taken\n",
    "        while not done: # go until we find the solution\n",
    "            steps += 1\n",
    "            move = epsilonGreedy(epsilon, Q, state, validMovesF) # find a moves, prune out moves that would make a state we've seen?\n",
    "            stateNew = makeMoveF(cp.deepcopy(state), move)\n",
    "            \n",
    "            if (stateMoveTuple(state, move)) not in Q:\n",
    "                Q[stateMoveTuple(state, move)] = 0 # add an initial value for the state\n",
    "            \n",
    "            if gameOver(stateNew):\n",
    "                Q[stateMoveTuple(state, move)] = 0 # set winning state to 0\n",
    "                stepsToGoal[rep] = steps # how many steps it took in this playthrough to reach the goal\n",
    "                epsilons[rep] = epsilon\n",
    "                    \n",
    "                done = True\n",
    "                \n",
    "            if steps > 1: # update learned values after first step\n",
    "                # based on the new value we learned, update the old value with the learningRate adjustment\n",
    "                Q[stateMoveTuple(stateOld, moveOld)] += learningRate * (1 + Q[stateMoveTuple(state, move)] -\n",
    "                                                                       Q[stateMoveTuple(stateOld, moveOld)])\n",
    "            \n",
    "            stateOld, moveOld = state, move # save old state/move for updating learned values\n",
    "            state = stateNew # set new state for next iteration\n",
    "            \n",
    "    if graphics == True:\n",
    "        plotOutcomes(epsilons,stepsToGoal)\n",
    "    \n",
    "    return (Q, stepsToGoal)\n",
    "    "
   ]
  },
  {
   "cell_type": "code",
   "execution_count": 265,
   "metadata": {
    "scrolled": false
   },
   "outputs": [
    {
     "data": {
      "image/png": "[encoded data removed]",
      "text/plain": [
       "<matplotlib.figure.Figure at 0x111ad62b0>"
      ]
     },
     "metadata": {},
     "output_type": "display_data"
    }
   ],
   "source": [
    "Q, stepsToGoal = trainQ(50, 0.5, 0.7, validMoves, makeMove)"
   ]
  },
  {
   "cell_type": "code",
   "execution_count": 266,
   "metadata": {},
   "outputs": [
    {
     "data": {
      "text/plain": [
       "array([ 164.,   48.,   27.,   32.,    7.,   28.,   45.,    9.,   19.,\n",
       "          8.,   10.,   28.,   29.,   13.,   11.,   38.,    9.,    9.,\n",
       "          7.,   23.,    8.,   11.,    7.,    7.,    9.,    7.,   39.,\n",
       "          7.,    7.,    7.,    7.,    7.,    7.,    7.,    7.,    7.,\n",
       "          7.,    7.,    7.,    7.,    7.,    7.,    7.,    7.,    7.,\n",
       "          7.,    7.,    7.,    7.,    7.])"
      ]
     },
     "execution_count": 266,
     "metadata": {},
     "output_type": "execute_result"
    }
   ],
   "source": [
    "stepsToGoal"
   ]
  },
  {
   "cell_type": "markdown",
   "metadata": {},
   "source": [
    "Above, you can see that steps to goal eventually solves the puzzle much faster than it does in the first attempt\n",
    "\n",
    "What does Q turn out to be? Well, it's a list of states and steps (possibly not all) and a value. Closer to one is better. "
   ]
  },
  {
   "cell_type": "code",
   "execution_count": 267,
   "metadata": {},
   "outputs": [
    {
     "data": {
      "text/plain": [
       "0"
      ]
     },
     "execution_count": 267,
     "metadata": {},
     "output_type": "execute_result"
    }
   ],
   "source": [
    "Q.get(((1,), (), (2, 3), (1, 3))) # this is a win it gets a 0!"
   ]
  },
  {
   "cell_type": "code",
   "execution_count": 268,
   "metadata": {},
   "outputs": [
    {
     "data": {
      "text/plain": [
       "5.504915475845337"
      ]
     },
     "execution_count": 268,
     "metadata": {},
     "output_type": "execute_result"
    }
   ],
   "source": [
    "Q.get(((3,), (1,), (2,), (3, 1))) # this move doesn't lead to a win as fast, further from 0"
   ]
  },
  {
   "cell_type": "markdown",
   "metadata": {},
   "source": [
    "## Test\n",
    "\n",
    "Now we have a dictionary of Q values, which shows which state/move combinations have the best chance of producing a win. We can test this by always picking the greedy option and seeing if the puzzle is solved efficiently!"
   ]
  },
  {
   "cell_type": "code",
   "execution_count": 269,
   "metadata": {
    "collapsed": true
   },
   "outputs": [],
   "source": [
    "def testQ(Q, maxSteps, validMovesF, makeMoveF):\n",
    "    \"\"\" takes a Q setup and maxSteps to try, calls the validMoves function and \n",
    "    checks results against the Q value for that state/move pair. Then executes\n",
    "    the best move with makeMove. Adds each new state to a path that gets returned\"\"\"\n",
    "    steps = 0\n",
    "    state = [[1, 2, 3], [], []]\n",
    "    path = [state]\n",
    "    while steps < maxSteps:\n",
    "        steps += 1\n",
    "        validMoves = validMovesF(state)\n",
    "        Qs = np.array([Q.get(stateMoveTuple(state, m), 0) for m in validMoves]) \n",
    "        move = validMoves[ np.argmin(Qs) ]\n",
    "        stateNew = makeMoveF(cp.deepcopy(state), move)\n",
    "        path += [stateNew]\n",
    "        \n",
    "        if gameOver(stateNew):\n",
    "            break\n",
    "            \n",
    "        state = stateNew\n",
    "    \n",
    "    return path\n",
    "        "
   ]
  },
  {
   "cell_type": "code",
   "execution_count": 270,
   "metadata": {
    "collapsed": true
   },
   "outputs": [],
   "source": [
    "path = testQ(Q, 20, validMoves, makeMove)"
   ]
  },
  {
   "cell_type": "code",
   "execution_count": 271,
   "metadata": {},
   "outputs": [
    {
     "data": {
      "text/plain": [
       "[[[1, 2, 3], [], []],\n",
       " [[2, 3], [], [1]],\n",
       " [[3], [2], [1]],\n",
       " [[3], [1, 2], []],\n",
       " [[], [1, 2], [3]],\n",
       " [[1], [2], [3]],\n",
       " [[1], [], [2, 3]],\n",
       " [[], [], [1, 2, 3]]]"
      ]
     },
     "execution_count": 271,
     "metadata": {},
     "output_type": "execute_result"
    }
   ],
   "source": [
    "path"
   ]
  },
  {
   "cell_type": "code",
   "execution_count": 272,
   "metadata": {},
   "outputs": [
    {
     "name": "stdout",
     "output_type": "stream",
     "text": [
      "1    \n",
      "2    \n",
      "3    \n",
      "------\n",
      "\n",
      "     \n",
      "2    \n",
      "3   1\n",
      "------\n",
      "\n",
      "     \n",
      "     \n",
      "3 2 1\n",
      "------\n",
      "\n",
      "     \n",
      "  1  \n",
      "3 2  \n",
      "------\n",
      "\n",
      "     \n",
      "  1  \n",
      "  2 3\n",
      "------\n",
      "\n",
      "     \n",
      "     \n",
      "1 2 3\n",
      "------\n",
      "\n",
      "     \n",
      "    2\n",
      "1   3\n",
      "------\n",
      "\n",
      "    1\n",
      "    2\n",
      "    3\n",
      "------\n",
      "\n"
     ]
    }
   ],
   "source": [
    "for s in path:\n",
    "    printState(s)\n",
    "    print()"
   ]
  },
  {
   "cell_type": "markdown",
   "metadata": {},
   "source": [
    "Winner! The Q function learned a fast way to solve the puzzle.\n",
    "\n",
    "My reinforcement used a `argmin` with a reinforcement of positive $1$ instead of $-1$, I'm not sure why I couldn't get it working right the other way around."
   ]
  },
  {
   "cell_type": "markdown",
   "metadata": {},
   "source": [
    "## 4 disks\n",
    "\n",
    "Let's try this again with four disks!"
   ]
  },
  {
   "cell_type": "code",
   "execution_count": 273,
   "metadata": {
    "collapsed": true
   },
   "outputs": [],
   "source": [
    "import copy as cp\n",
    "\n",
    "def printState_4disk(state):\n",
    "    printedLists = cp.deepcopy(state)\n",
    "    for list in printedLists:\n",
    "        spaces = [' '] * (4 - len(list))\n",
    "        list[0:0] = spaces\n",
    "    \n",
    "    print(\"{} {} {}\".format(printedLists[0][0], printedLists[1][0], printedLists[2][0]))\n",
    "    print(\"{} {} {}\".format(printedLists[0][1], printedLists[1][1], printedLists[2][1]))\n",
    "    print(\"{} {} {}\".format(printedLists[0][2], printedLists[1][2], printedLists[2][2]))\n",
    "    print(\"{} {} {}\".format(printedLists[0][3], printedLists[1][3], printedLists[2][3]))\n",
    "    print('------')"
   ]
  },
  {
   "cell_type": "code",
   "execution_count": 274,
   "metadata": {},
   "outputs": [
    {
     "name": "stdout",
     "output_type": "stream",
     "text": [
      "1    \n",
      "2    \n",
      "3    \n",
      "4    \n",
      "------\n"
     ]
    }
   ],
   "source": [
    "printState_4disk([[1, 2, 3, 4], [], []])"
   ]
  },
  {
   "cell_type": "code",
   "execution_count": 275,
   "metadata": {},
   "outputs": [
    {
     "name": "stdout",
     "output_type": "stream",
     "text": [
      "     \n",
      "1    \n",
      "2    \n",
      "3 4  \n",
      "------\n"
     ]
    }
   ],
   "source": [
    "printState_4disk([[1, 2, 3], [4], []])"
   ]
  },
  {
   "cell_type": "code",
   "execution_count": 276,
   "metadata": {
    "collapsed": true
   },
   "outputs": [],
   "source": [
    "def validMoves_4disk(state):\n",
    "    \"\"\" given the state of columns, generate possible next\n",
    "    states and return list of moves [fromColumn, toColumn]\"\"\"\n",
    "    \n",
    "    actions = []\n",
    "    for (idx, column) in enumerate(state):\n",
    "        if len(column): # tower has disk\n",
    "            disk = column[0]\n",
    "            if (len(state) > idx + 1): # there is a column to the right\n",
    "                if (len(state[idx+1]) == 0 or state[idx+1][0] > disk): # column is empty OR has larger disk\n",
    "                    actions.append([idx+1, idx+2])\n",
    "            \n",
    "            if (idx > 0): # here is a column to the left\n",
    "                if (len(state[idx-1]) == 0 or state[idx-1][0] > disk): # column is empty OR has larger disk\n",
    "                    actions.append([idx+1, idx])\n",
    "                    \n",
    "            \n",
    "            if (idx > 1): # there is a column 2 to the left\n",
    "                if (len(state[idx-2]) == 0 or state[idx-2][0] > disk): # column is empty OR has larger disk\n",
    "                    actions.append([idx+1, idx-1])\n",
    "                    \n",
    "            if (len(state) > idx + 2): # there is a column 2 to the right\n",
    "                if (len(state[idx+2]) == 0 or state[idx+2][0] > disk): # column is empty OR has larger disk\n",
    "                    actions.append([idx+1, idx+3])\n",
    "    \n",
    "    return actions"
   ]
  },
  {
   "cell_type": "code",
   "execution_count": 277,
   "metadata": {},
   "outputs": [
    {
     "data": {
      "text/plain": [
       "[[1, 2], [1, 3]]"
      ]
     },
     "execution_count": 277,
     "metadata": {},
     "output_type": "execute_result"
    }
   ],
   "source": [
    "validMoves_4disk([[1, 2, 3, 4], [], []])"
   ]
  },
  {
   "cell_type": "code",
   "execution_count": 278,
   "metadata": {},
   "outputs": [
    {
     "data": {
      "text/plain": [
       "[[2, 3], [2, 1], [3, 1]]"
      ]
     },
     "execution_count": 278,
     "metadata": {},
     "output_type": "execute_result"
    }
   ],
   "source": [
    "validMoves_4disk([[4], [1, 3], [2]])"
   ]
  },
  {
   "cell_type": "code",
   "execution_count": 279,
   "metadata": {},
   "outputs": [
    {
     "data": {
      "text/plain": [
       "[[1, 2], [3, 2], [3, 1]]"
      ]
     },
     "execution_count": 279,
     "metadata": {},
     "output_type": "execute_result"
    }
   ],
   "source": [
    "validMoves_4disk([[4], [], [1, 2, 3]])"
   ]
  },
  {
   "cell_type": "code",
   "execution_count": 280,
   "metadata": {
    "collapsed": true
   },
   "outputs": [],
   "source": [
    "import copy as cp\n",
    "\n",
    "def makeMove_4disk(state, move):\n",
    "    \"\"\" takes in the state of towers and the move to make in the form of\n",
    "    [fromTower, toTower] and moves the top disk of fromTower to the top of\n",
    "    toTower\"\"\"\n",
    "    \n",
    "    nextState = cp.deepcopy(state)\n",
    "    startPeg = move[0] - 1\n",
    "    endPeg = move[1] - 1\n",
    "    \n",
    "    nextState[endPeg].insert(0, nextState[startPeg][0])\n",
    "    del nextState[startPeg][0]\n",
    "    return nextState"
   ]
  },
  {
   "cell_type": "code",
   "execution_count": 281,
   "metadata": {},
   "outputs": [
    {
     "data": {
      "text/plain": [
       "[[2, 3, 4], [1], []]"
      ]
     },
     "execution_count": 281,
     "metadata": {},
     "output_type": "execute_result"
    }
   ],
   "source": [
    "makeMove_4disk([[1, 2, 3, 4], [], []], [1, 2])"
   ]
  },
  {
   "cell_type": "code",
   "execution_count": 282,
   "metadata": {
    "collapsed": true
   },
   "outputs": [],
   "source": [
    "def gameOver_4disk(state):\n",
    "    return state == [[], [], [1, 2, 3, 4]]"
   ]
  },
  {
   "cell_type": "markdown",
   "metadata": {},
   "source": [
    "Great. We now have a set of helper functions for finding out the path to a 4-disk solution. Let's see how this changes Q."
   ]
  },
  {
   "cell_type": "code",
   "execution_count": 283,
   "metadata": {
    "collapsed": true
   },
   "outputs": [],
   "source": [
    "import numpy as np\n",
    "import copy as cp\n",
    "\n",
    "def trainQ_4disk(nRepetitions, learningRate, epsilonDecayFactor, validMovesF, makeMoveF):\n",
    "    \"\"\" train up a Q table of moves, returns Q and the table of steps to goal from states\n",
    "    nRepetitions = number of times to run the test\n",
    "    learningRate = rho, the rate at which to adjust previous values based on next value\n",
    "    epsilonDecayFactor = the rate to decay guesses vs. greedy moves\n",
    "    validMovesF = a function to return value possible moves to be made\n",
    "    makeMove = a function to apply the move to the state\"\"\"\n",
    "    \n",
    "    graphics = True\n",
    "    Q = {}\n",
    "    epsilon = 1.0\n",
    "    # track how many steps it took on each repetition, this hopefully gets lower as time goes on\n",
    "    stepsToGoal = np.zeros(nRepetitions)\n",
    "    epsilons = np.zeros(nRepetitions)\n",
    "    if graphics == True:\n",
    "        plt.figure(figsize=(8,8))\n",
    "        \n",
    "    for rep in range(nRepetitions):\n",
    "        state = [[1, 2, 3, 4], [], []] # starting state\n",
    "        done = False\n",
    "        epsilon *= epsilonDecayFactor\n",
    "        steps = 0 # start at zero steps taken\n",
    "        while not done: # go until we find the solution\n",
    "            steps += 1\n",
    "            move = epsilonGreedy(epsilon, Q, state, validMovesF) # find a moves, prune out moves that would make a state we've seen?\n",
    "            stateNew = makeMoveF(cp.deepcopy(state), move)\n",
    "            \n",
    "            if (stateMoveTuple(state, move)) not in Q:\n",
    "                Q[stateMoveTuple(state, move)] = 0 # add an initial value for the state\n",
    "            \n",
    "            if gameOver_4disk(stateNew):\n",
    "                Q[stateMoveTuple(state, move)] = 0 # set winning state to 0\n",
    "                stepsToGoal[rep] = steps # how many steps it took in this playthrough to reach the goal\n",
    "                epsilons[rep] = epsilon\n",
    "                done = True\n",
    "                \n",
    "            if steps > 1: # update learned values after first step\n",
    "                # based on the new value we learned, update the old value with the learningRate adjustment\n",
    "                Q[stateMoveTuple(stateOld, moveOld)] += learningRate * (1 + Q[stateMoveTuple(state, move)] -\n",
    "                                                                       Q[stateMoveTuple(stateOld, moveOld)])\n",
    "            \n",
    "            stateOld, moveOld = state, move # save old state/move for updating learned values\n",
    "            state = stateNew # set new state for next iteration\n",
    "    \n",
    "    if graphics == True:\n",
    "        plotOutcomes(epsilons,stepsToGoal)\n",
    "    return (Q, stepsToGoal)"
   ]
  },
  {
   "cell_type": "code",
   "execution_count": 284,
   "metadata": {},
   "outputs": [
    {
     "data": {
      "image/png": "[encoded data removed]",
      "text/plain": [
       "<matplotlib.figure.Figure at 0x111c8a630>"
      ]
     },
     "metadata": {},
     "output_type": "display_data"
    }
   ],
   "source": [
    "Q, stepsToGoal = trainQ_4disk(50, 0.5, 0.7, validMoves_4disk, makeMove_4disk)"
   ]
  },
  {
   "cell_type": "code",
   "execution_count": 285,
   "metadata": {},
   "outputs": [
    {
     "data": {
      "text/plain": [
       "array([ 514.,   63.,  253.,  162.,  385.,  122.,  131.,   66.,  164.,\n",
       "        107.,  174.,   44.,   82.,   48.,   65.,   23.,  122.,   57.,\n",
       "         38.,   29.,  109.,  101.,   43.,   43.,   31.,  154.,   34.,\n",
       "         35.,   83.,   27.,   20.,   22.,   48.,   91.,   39.,   28.,\n",
       "         17.,  120.,   22.,   17.,   18.,   30.,   15.,   26.,   67.,\n",
       "         80.,   15.,   20.,   16.,   15.])"
      ]
     },
     "execution_count": 285,
     "metadata": {},
     "output_type": "execute_result"
    }
   ],
   "source": [
    "stepsToGoal"
   ]
  },
  {
   "cell_type": "code",
   "execution_count": 286,
   "metadata": {
    "collapsed": true
   },
   "outputs": [],
   "source": [
    "def testQ_4disk(Q, maxSteps, validMovesF, makeMoveF):\n",
    "    \"\"\" takes a Q setup and maxSteps to try, calls the validMoves function and \n",
    "    checks results against the Q value for that state/move pair. Then executes\n",
    "    the best move with makeMove. Adds each new state to a path that gets returned\"\"\"\n",
    "    steps = 0\n",
    "    state = [[1, 2, 3, 4], [], []]\n",
    "    path = [state]\n",
    "    while steps < maxSteps:\n",
    "        steps += 1\n",
    "        validMoves = validMovesF(state)\n",
    "        Qs = np.array([Q.get(stateMoveTuple(state, m), 0) for m in validMoves]) \n",
    "        move = validMoves[ np.argmin(Qs) ]\n",
    "        stateNew = makeMoveF(cp.deepcopy(state), move)\n",
    "        path += [stateNew]\n",
    "        \n",
    "        if gameOver_4disk(stateNew):\n",
    "            break\n",
    "            \n",
    "        state = stateNew\n",
    "    \n",
    "    return path"
   ]
  },
  {
   "cell_type": "code",
   "execution_count": 287,
   "metadata": {
    "collapsed": true
   },
   "outputs": [],
   "source": [
    "path_4disk = testQ_4disk(Q, 20, validMoves_4disk, makeMove_4disk)"
   ]
  },
  {
   "cell_type": "code",
   "execution_count": 288,
   "metadata": {},
   "outputs": [
    {
     "name": "stdout",
     "output_type": "stream",
     "text": [
      "1    \n",
      "2    \n",
      "3    \n",
      "4    \n",
      "------\n",
      "\n",
      "     \n",
      "2    \n",
      "3    \n",
      "4   1\n",
      "------\n",
      "\n",
      "1    \n",
      "2    \n",
      "3    \n",
      "4    \n",
      "------\n",
      "\n",
      "     \n",
      "2    \n",
      "3    \n",
      "4   1\n",
      "------\n",
      "\n",
      "1    \n",
      "2    \n",
      "3    \n",
      "4    \n",
      "------\n",
      "\n",
      "     \n",
      "2    \n",
      "3    \n",
      "4   1\n",
      "------\n",
      "\n",
      "1    \n",
      "2    \n",
      "3    \n",
      "4    \n",
      "------\n",
      "\n",
      "     \n",
      "2    \n",
      "3    \n",
      "4   1\n",
      "------\n",
      "\n",
      "1    \n",
      "2    \n",
      "3    \n",
      "4    \n",
      "------\n",
      "\n",
      "     \n",
      "2    \n",
      "3    \n",
      "4   1\n",
      "------\n",
      "\n",
      "1    \n",
      "2    \n",
      "3    \n",
      "4    \n",
      "------\n",
      "\n",
      "     \n",
      "2    \n",
      "3    \n",
      "4   1\n",
      "------\n",
      "\n",
      "1    \n",
      "2    \n",
      "3    \n",
      "4    \n",
      "------\n",
      "\n",
      "     \n",
      "2    \n",
      "3    \n",
      "4   1\n",
      "------\n",
      "\n",
      "1    \n",
      "2    \n",
      "3    \n",
      "4    \n",
      "------\n",
      "\n",
      "     \n",
      "2    \n",
      "3    \n",
      "4   1\n",
      "------\n",
      "\n",
      "1    \n",
      "2    \n",
      "3    \n",
      "4    \n",
      "------\n",
      "\n",
      "     \n",
      "2    \n",
      "3    \n",
      "4   1\n",
      "------\n",
      "\n",
      "1    \n",
      "2    \n",
      "3    \n",
      "4    \n",
      "------\n",
      "\n",
      "     \n",
      "2    \n",
      "3    \n",
      "4   1\n",
      "------\n",
      "\n",
      "1    \n",
      "2    \n",
      "3    \n",
      "4    \n",
      "------\n",
      "\n"
     ]
    }
   ],
   "source": [
    "for s in path_4disk:\n",
    "    printState_4disk(s)\n",
    "    print()"
   ]
  },
  {
   "cell_type": "markdown",
   "metadata": {},
   "source": [
    "Hmmm this might take more turns to solve. "
   ]
  },
  {
   "cell_type": "code",
   "execution_count": 289,
   "metadata": {},
   "outputs": [
    {
     "data": {
      "image/png": "[encoded data removed]",
      "text/plain": [
       "<matplotlib.figure.Figure at 0x111ca3f28>"
      ]
     },
     "metadata": {},
     "output_type": "display_data"
    }
   ],
   "source": [
    "Q, stepsToGoal = trainQ_4disk(100, 0.5, 0.7, validMoves_4disk, makeMove_4disk)"
   ]
  },
  {
   "cell_type": "code",
   "execution_count": 290,
   "metadata": {},
   "outputs": [
    {
     "data": {
      "text/plain": [
       "array([ 571.,  153.,   80.,  181.,   63.,  106.,  248.,   62.,  176.,\n",
       "         66.,  157.,   72.,   38.,  130.,  139.,   50.,  127.,   50.,\n",
       "         28.,  124.,  128.,   58.,   30.,   29.,   94.,   59.,   28.,\n",
       "         21.,  163.,   47.,   41.,   50.,   17.,  108.,   34.,   20.,\n",
       "         39.,   63.,   23.,   24.,   24.,   36.,   23.,   50.,   99.,\n",
       "         16.,   17.,   19.,   19.,   32.,   25.,   15.,   15.,   20.,\n",
       "         67.,   17.,   17.,   17.,   15.,   15.,   18.,   15.,   15.,\n",
       "         15.,   35.,   15.,   15.,   15.,   15.,   15.,   15.,   15.,\n",
       "         15.,   15.,   15.,   15.,   15.,   15.,   15.,   15.,   15.,\n",
       "         15.,   15.,   15.,   15.,   15.,   15.,   15.,   15.,   15.,\n",
       "         15.,   15.,   15.,   15.,   15.,   15.,   15.,   15.,   15.,   15.])"
      ]
     },
     "execution_count": 290,
     "metadata": {},
     "output_type": "execute_result"
    }
   ],
   "source": [
    "stepsToGoal"
   ]
  },
  {
   "cell_type": "code",
   "execution_count": 291,
   "metadata": {
    "collapsed": true
   },
   "outputs": [],
   "source": [
    "path_4disk = testQ_4disk(Q, 20, validMoves_4disk, makeMove_4disk)"
   ]
  },
  {
   "cell_type": "code",
   "execution_count": 292,
   "metadata": {},
   "outputs": [
    {
     "name": "stdout",
     "output_type": "stream",
     "text": [
      "16\n",
      "1    \n",
      "2    \n",
      "3    \n",
      "4    \n",
      "------\n",
      "\n",
      "     \n",
      "2    \n",
      "3    \n",
      "4 1  \n",
      "------\n",
      "\n",
      "     \n",
      "     \n",
      "3    \n",
      "4 1 2\n",
      "------\n",
      "\n",
      "     \n",
      "     \n",
      "3   1\n",
      "4   2\n",
      "------\n",
      "\n",
      "     \n",
      "     \n",
      "    1\n",
      "4 3 2\n",
      "------\n",
      "\n",
      "     \n",
      "     \n",
      "1    \n",
      "4 3 2\n",
      "------\n",
      "\n",
      "     \n",
      "     \n",
      "1 2  \n",
      "4 3  \n",
      "------\n",
      "\n",
      "     \n",
      "  1  \n",
      "  2  \n",
      "4 3  \n",
      "------\n",
      "\n",
      "     \n",
      "  1  \n",
      "  2  \n",
      "  3 4\n",
      "------\n",
      "\n",
      "     \n",
      "     \n",
      "  2 1\n",
      "  3 4\n",
      "------\n",
      "\n",
      "     \n",
      "     \n",
      "    1\n",
      "2 3 4\n",
      "------\n",
      "\n",
      "     \n",
      "     \n",
      "1    \n",
      "2 3 4\n",
      "------\n",
      "\n",
      "     \n",
      "     \n",
      "1   3\n",
      "2   4\n",
      "------\n",
      "\n",
      "     \n",
      "     \n",
      "    3\n",
      "2 1 4\n",
      "------\n",
      "\n",
      "     \n",
      "    2\n",
      "    3\n",
      "  1 4\n",
      "------\n",
      "\n",
      "    1\n",
      "    2\n",
      "    3\n",
      "    4\n",
      "------\n",
      "\n"
     ]
    }
   ],
   "source": [
    "print(len(path_4disk))\n",
    "for s in path_4disk:\n",
    "    printState_4disk(s)\n",
    "    print()"
   ]
  },
  {
   "cell_type": "markdown",
   "metadata": {},
   "source": [
    "Ahhhh there we go! What if we take fewer turns and instead tweak other values?"
   ]
  },
  {
   "cell_type": "code",
   "execution_count": 293,
   "metadata": {},
   "outputs": [
    {
     "data": {
      "image/png": "[encoded data removed]",
      "text/plain": [
       "<matplotlib.figure.Figure at 0x111ca9518>"
      ]
     },
     "metadata": {},
     "output_type": "display_data"
    }
   ],
   "source": [
    "Q, stepsToGoal = trainQ_4disk(50, 0.5, 0.4, validMoves_4disk, makeMove_4disk)"
   ]
  },
  {
   "cell_type": "code",
   "execution_count": 294,
   "metadata": {},
   "outputs": [
    {
     "data": {
      "text/plain": [
       "array([ 260.,  301.,   74.,  402.,   73.,  335.,   52.,   68.,  153.,\n",
       "         52.,   64.,  145.,   65.,   34.,  109.,   62.,  212.,   26.,\n",
       "         52.,  151.,   25.,   57.,  120.,   28.,   83.,   46.,   53.,\n",
       "         29.,   84.,   29.,   49.,   19.,  112.,   23.,   40.,   34.,\n",
       "         84.,   20.,   55.,   81.,   45.,   29.,   40.,   17.,   18.,\n",
       "         15.,   23.,   31.,   21.,   91.])"
      ]
     },
     "execution_count": 294,
     "metadata": {},
     "output_type": "execute_result"
    }
   ],
   "source": [
    "stepsToGoal"
   ]
  },
  {
   "cell_type": "code",
   "execution_count": 295,
   "metadata": {
    "collapsed": true
   },
   "outputs": [],
   "source": [
    "path_4disk = testQ_4disk(Q, 20, validMoves_4disk, makeMove_4disk)"
   ]
  },
  {
   "cell_type": "code",
   "execution_count": 296,
   "metadata": {},
   "outputs": [
    {
     "name": "stdout",
     "output_type": "stream",
     "text": [
      "1    \n",
      "2    \n",
      "3    \n",
      "4    \n",
      "------\n",
      "\n",
      "     \n",
      "2    \n",
      "3    \n",
      "4 1  \n",
      "------\n",
      "\n",
      "     \n",
      "     \n",
      "3    \n",
      "4 1 2\n",
      "------\n",
      "\n",
      "     \n",
      "     \n",
      "3   1\n",
      "4   2\n",
      "------\n",
      "\n",
      "     \n",
      "     \n",
      "3    \n",
      "4 1 2\n",
      "------\n",
      "\n",
      "     \n",
      "     \n",
      "3   1\n",
      "4   2\n",
      "------\n",
      "\n",
      "     \n",
      "     \n",
      "3    \n",
      "4 1 2\n",
      "------\n",
      "\n",
      "     \n",
      "     \n",
      "3   1\n",
      "4   2\n",
      "------\n",
      "\n",
      "     \n",
      "     \n",
      "3    \n",
      "4 1 2\n",
      "------\n",
      "\n",
      "     \n",
      "     \n",
      "3   1\n",
      "4   2\n",
      "------\n",
      "\n",
      "     \n",
      "     \n",
      "3    \n",
      "4 1 2\n",
      "------\n",
      "\n",
      "     \n",
      "     \n",
      "3   1\n",
      "4   2\n",
      "------\n",
      "\n",
      "     \n",
      "     \n",
      "3    \n",
      "4 1 2\n",
      "------\n",
      "\n",
      "     \n",
      "     \n",
      "3   1\n",
      "4   2\n",
      "------\n",
      "\n",
      "     \n",
      "     \n",
      "3    \n",
      "4 1 2\n",
      "------\n",
      "\n",
      "     \n",
      "     \n",
      "3   1\n",
      "4   2\n",
      "------\n",
      "\n",
      "     \n",
      "     \n",
      "3    \n",
      "4 1 2\n",
      "------\n",
      "\n",
      "     \n",
      "     \n",
      "3   1\n",
      "4   2\n",
      "------\n",
      "\n",
      "     \n",
      "     \n",
      "3    \n",
      "4 1 2\n",
      "------\n",
      "\n",
      "     \n",
      "     \n",
      "3   1\n",
      "4   2\n",
      "------\n",
      "\n",
      "     \n",
      "     \n",
      "3    \n",
      "4 1 2\n",
      "------\n",
      "\n"
     ]
    }
   ],
   "source": [
    "for s in path_4disk:\n",
    "    printState_4disk(s)\n",
    "    print()"
   ]
  },
  {
   "cell_type": "markdown",
   "metadata": {},
   "source": [
    "Nope!"
   ]
  },
  {
   "cell_type": "code",
   "execution_count": 297,
   "metadata": {},
   "outputs": [
    {
     "data": {
      "image/png": "[encoded data removed]",
      "text/plain": [
       "<matplotlib.figure.Figure at 0x10dce84e0>"
      ]
     },
     "metadata": {},
     "output_type": "display_data"
    }
   ],
   "source": [
    "Q, stepsToGoal = trainQ_4disk(50, 0.5, 0.999, validMoves_4disk, makeMove_4disk)"
   ]
  },
  {
   "cell_type": "code",
   "execution_count": 298,
   "metadata": {},
   "outputs": [
    {
     "data": {
      "text/plain": [
       "array([ 1618.,   240.,  1803.,   146.,   392.,   378.,   344.,  1561.,\n",
       "        2129.,   840.,  1001.,   798.,   369.,   709.,   216.,  1102.,\n",
       "        1245.,  1290.,   723.,   922.,   437.,   162.,   490.,   113.,\n",
       "         211.,   233.,   618.,   386.,   676.,   100.,   179.,   254.,\n",
       "         523.,   156.,   415.,   209.,   327.,  1010.,   400.,  1354.,\n",
       "         980.,   154.,   810.,   536.,   622.,    79.,   668.,   794.,\n",
       "         462.,  1110.])"
      ]
     },
     "execution_count": 298,
     "metadata": {},
     "output_type": "execute_result"
    }
   ],
   "source": [
    "stepsToGoal"
   ]
  },
  {
   "cell_type": "markdown",
   "metadata": {},
   "source": [
    "Ok this was a bit silly, not even close"
   ]
  },
  {
   "cell_type": "code",
   "execution_count": 299,
   "metadata": {},
   "outputs": [
    {
     "data": {
      "image/png": "[encoded data removed]",
      "text/plain": [
       "<matplotlib.figure.Figure at 0x111978eb8>"
      ]
     },
     "metadata": {},
     "output_type": "display_data"
    }
   ],
   "source": [
    "Q, stepsToGoal = trainQ_4disk(50, 0.999, 0.7, validMoves_4disk, makeMove_4disk)"
   ]
  },
  {
   "cell_type": "code",
   "execution_count": 300,
   "metadata": {},
   "outputs": [
    {
     "data": {
      "text/plain": [
       "array([ 274.,  334.,  291.,  341.,  152.,   43.,  124.,   77.,   35.,\n",
       "         73.,   47.,   80.,  129.,   31.,   18.,   26.,   55.,   29.,\n",
       "         86.,   22.,   15.,   20.,   38.,   35.,   15.,   32.,   22.,\n",
       "         15.,   19.,   26.,   32.,   17.,   15.,   15.,   15.,   15.,\n",
       "         15.,   15.,   15.,   15.,   15.,   15.,   15.,   15.,   15.,\n",
       "         15.,   15.,   15.,   15.,   15.])"
      ]
     },
     "execution_count": 300,
     "metadata": {},
     "output_type": "execute_result"
    }
   ],
   "source": [
    "stepsToGoal"
   ]
  },
  {
   "cell_type": "code",
   "execution_count": 301,
   "metadata": {
    "collapsed": true
   },
   "outputs": [],
   "source": [
    "path_4disk = testQ_4disk(Q, 20, validMoves_4disk, makeMove_4disk)"
   ]
  },
  {
   "cell_type": "code",
   "execution_count": 302,
   "metadata": {},
   "outputs": [
    {
     "name": "stdout",
     "output_type": "stream",
     "text": [
      "16\n",
      "1    \n",
      "2    \n",
      "3    \n",
      "4    \n",
      "------\n",
      "\n",
      "     \n",
      "2    \n",
      "3    \n",
      "4 1  \n",
      "------\n",
      "\n",
      "     \n",
      "     \n",
      "3    \n",
      "4 1 2\n",
      "------\n",
      "\n",
      "     \n",
      "     \n",
      "3   1\n",
      "4   2\n",
      "------\n",
      "\n",
      "     \n",
      "     \n",
      "    1\n",
      "4 3 2\n",
      "------\n",
      "\n",
      "     \n",
      "     \n",
      "1    \n",
      "4 3 2\n",
      "------\n",
      "\n",
      "     \n",
      "     \n",
      "1 2  \n",
      "4 3  \n",
      "------\n",
      "\n",
      "     \n",
      "  1  \n",
      "  2  \n",
      "4 3  \n",
      "------\n",
      "\n",
      "     \n",
      "  1  \n",
      "  2  \n",
      "  3 4\n",
      "------\n",
      "\n",
      "     \n",
      "     \n",
      "  2 1\n",
      "  3 4\n",
      "------\n",
      "\n",
      "     \n",
      "     \n",
      "    1\n",
      "2 3 4\n",
      "------\n",
      "\n",
      "     \n",
      "     \n",
      "1    \n",
      "2 3 4\n",
      "------\n",
      "\n",
      "     \n",
      "     \n",
      "1   3\n",
      "2   4\n",
      "------\n",
      "\n",
      "     \n",
      "     \n",
      "    3\n",
      "2 1 4\n",
      "------\n",
      "\n",
      "     \n",
      "    2\n",
      "    3\n",
      "  1 4\n",
      "------\n",
      "\n",
      "    1\n",
      "    2\n",
      "    3\n",
      "    4\n",
      "------\n",
      "\n"
     ]
    }
   ],
   "source": [
    "print(len(path_4disk))\n",
    "for s in path_4disk:\n",
    "    printState_4disk(s)\n",
    "    print()"
   ]
  },
  {
   "cell_type": "markdown",
   "metadata": {},
   "source": [
    "So, we still get a result and it still takes only 16 steps... but it looks like we can cheat it even more"
   ]
  },
  {
   "cell_type": "code",
   "execution_count": 303,
   "metadata": {},
   "outputs": [
    {
     "data": {
      "image/png": "[encoded data removed]",
      "text/plain": [
       "<matplotlib.figure.Figure at 0x111a9ec18>"
      ]
     },
     "metadata": {},
     "output_type": "display_data"
    }
   ],
   "source": [
    "Q, stepsToGoal = trainQ_4disk(30, 0.999, 0.7, validMoves_4disk, makeMove_4disk) # can 30 work?"
   ]
  },
  {
   "cell_type": "code",
   "execution_count": 304,
   "metadata": {
    "collapsed": true
   },
   "outputs": [],
   "source": [
    "path_4disk = testQ_4disk(Q, 20, validMoves_4disk, makeMove_4disk)"
   ]
  },
  {
   "cell_type": "code",
   "execution_count": 305,
   "metadata": {},
   "outputs": [
    {
     "name": "stdout",
     "output_type": "stream",
     "text": [
      "16\n",
      "1    \n",
      "2    \n",
      "3    \n",
      "4    \n",
      "------\n",
      "\n",
      "     \n",
      "2    \n",
      "3    \n",
      "4 1  \n",
      "------\n",
      "\n",
      "     \n",
      "     \n",
      "3    \n",
      "4 1 2\n",
      "------\n",
      "\n",
      "     \n",
      "     \n",
      "3   1\n",
      "4   2\n",
      "------\n",
      "\n",
      "     \n",
      "     \n",
      "    1\n",
      "4 3 2\n",
      "------\n",
      "\n",
      "     \n",
      "     \n",
      "1    \n",
      "4 3 2\n",
      "------\n",
      "\n",
      "     \n",
      "     \n",
      "1 2  \n",
      "4 3  \n",
      "------\n",
      "\n",
      "     \n",
      "  1  \n",
      "  2  \n",
      "4 3  \n",
      "------\n",
      "\n",
      "     \n",
      "  1  \n",
      "  2  \n",
      "  3 4\n",
      "------\n",
      "\n",
      "     \n",
      "     \n",
      "  2 1\n",
      "  3 4\n",
      "------\n",
      "\n",
      "     \n",
      "     \n",
      "    1\n",
      "2 3 4\n",
      "------\n",
      "\n",
      "     \n",
      "     \n",
      "1    \n",
      "2 3 4\n",
      "------\n",
      "\n",
      "     \n",
      "     \n",
      "1   3\n",
      "2   4\n",
      "------\n",
      "\n",
      "     \n",
      "     \n",
      "    3\n",
      "2 1 4\n",
      "------\n",
      "\n",
      "     \n",
      "    2\n",
      "    3\n",
      "  1 4\n",
      "------\n",
      "\n",
      "    1\n",
      "    2\n",
      "    3\n",
      "    4\n",
      "------\n",
      "\n"
     ]
    }
   ],
   "source": [
    "print(len(path_4disk))\n",
    "for s in path_4disk:\n",
    "    printState_4disk(s)\n",
    "    print()"
   ]
  },
  {
   "cell_type": "markdown",
   "metadata": {},
   "source": [
    "Welp, we got there in 30 iterations, but there is one extra step in there! I think 50 is the safest option with a low decay rate like 0.999"
   ]
  },
  {
   "cell_type": "code",
   "execution_count": null,
   "metadata": {
    "collapsed": true
   },
   "outputs": [],
   "source": []
  }
 ],
 "metadata": {
  "kernelspec": {
   "display_name": "Python 3",
   "language": "python",
   "name": "python3"
  },
  "language_info": {
   "codemirror_mode": {
    "name": "ipython",
    "version": 3
   },
   "file_extension": ".py",
   "mimetype": "text/x-python",
   "name": "python",
   "nbconvert_exporter": "python",
   "pygments_lexer": "ipython3",
   "version": "3.6.1"
  }
 },
 "nbformat": 4,
 "nbformat_minor": 2
}
