{
 "cells": [
  {
   "cell_type": "markdown",
   "metadata": {},
   "source": [
    "$\\newcommand{\\xv}{\\mathbf{x}}\n",
    "\\newcommand{\\Xv}{\\mathbf{X}}\n",
    "\\newcommand{\\yv}{\\mathbf{y}}\n",
    "\\newcommand{\\zv}{\\mathbf{z}}\n",
    "\\newcommand{\\av}{\\mathbf{a}}\n",
    "\\newcommand{\\Wv}{\\mathbf{W}}\n",
    "\\newcommand{\\wv}{\\mathbf{w}}\n",
    "\\newcommand{\\tv}{\\mathbf{t}}\n",
    "\\newcommand{\\Tv}{\\mathbf{T}}\n",
    "\\newcommand{\\muv}{\\boldsymbol{\\mu}}\n",
    "\\newcommand{\\sigmav}{\\boldsymbol{\\sigma}}\n",
    "\\newcommand{\\phiv}{\\boldsymbol{\\phi}}\n",
    "\\newcommand{\\Phiv}{\\boldsymbol{\\Phi}}\n",
    "\\newcommand{\\Sigmav}{\\boldsymbol{\\Sigma}}\n",
    "\\newcommand{\\Lambdav}{\\boldsymbol{\\Lambda}}\n",
    "\\newcommand{\\half}{\\frac{1}{2}}\n",
    "\\newcommand{\\argmax}[1]{\\underset{#1}{\\operatorname{argmax}}}\n",
    "\\newcommand{\\argmin}[1]{\\underset{#1}{\\operatorname{argmin}}}$"
   ]
  },
  {
   "cell_type": "markdown",
   "metadata": {},
   "source": [
    "# Project Proposal"
   ]
  },
  {
   "cell_type": "markdown",
   "metadata": {},
   "source": [
    "Nathan Kluth"
   ]
  },
  {
   "cell_type": "markdown",
   "metadata": {},
   "source": [
    "## Introduction"
   ]
  },
  {
   "cell_type": "markdown",
   "metadata": {},
   "source": [
    "\n",
    " I had a hard time coming up with a proposal and am happy to discuss any changes! To be honest a lot of the latest lecture / math has been quite over my head so I think it made it hard for me to figure out what I want to do. I would like to tackle a problem that could potentially (even if contrived) have a benefit to the world. I think that is what excites me about machine learning, and all the data that is available!\n",
    "\n",
    "\n",
    "For my proposal, I will be addressing a data problem of training a function that can learn symptoms and signs of heart disease in patient data. Mostly I will be using a heart disease dataset to better understand how neural networks and machine learning works.\n",
    "\n",
    "I will be using training methods discussed in lecture, and also will pull in some other libraries for training data to see what kind of results they get.\n",
    "\n",
    "I will be focusing on Random Forest (if memory serves, it is pretty good) and will use a few other algorithms like decision tree to compare the results."
   ]
  },
  {
   "cell_type": "markdown",
   "metadata": {},
   "source": [
    "## Methods"
   ]
  },
  {
   "cell_type": "markdown",
   "metadata": {},
   "source": [
    "I will be using the data set provided by https://archive.ics.uci.edu/ml/datasets/Heart+Disease. I will use some algorithms provided in class in order to find any correlation between the different attributes measured and the diagnoses of the patients. I hope to compare a library like scikit or tensor flow with the different algorithms discussed in lecture.\n",
    "\n",
    "I also would like to model the data better than I have in the past, and will work to show the data using matplot lib.\n",
    "\n",
    "Since the data seems to be simple, I will compare machine learning algorithms against it. I will start with Random Forest, and then move on to decision tree. From there I will see if the libraries have any other algorithms to try the data against."
   ]
  },
  {
   "cell_type": "markdown",
   "metadata": {},
   "source": [
    "## Possible Results\n",
    "\n",
    "As I explore the data set I hope to walk the reader through two parts of a journal: The first part would consist of understanding the dataset and creating any helper methods needed. Potentially, any adjustments to the dataset would be made in this section.\n",
    "\n",
    "In part 2 I will begin training a model using the data to see if I can get a result correlating to what I am seeing with my own eyes. Something along the lines of an attribute that has a high correlation to heart disease would be ideal.\n",
    "\n",
    "I will also summarize the differences in results from different algorithms."
   ]
  },
  {
   "cell_type": "markdown",
   "metadata": {},
   "source": [
    "## Timeline\n",
    "\n",
    "As a team of one I will be doing all the following:\n",
    "- 1 - obtain the data and import it into the jupyter notebook\n",
    "- 2 - using numpy and/or pandas, adjust the data and get the shape set up\n",
    "- 3 - find any attributes I would want to test against\n",
    "- 4 - train the model\n",
    "- 5 - test the model"
   ]
  }
 ],
 "metadata": {
  "kernelspec": {
   "display_name": "Python 3",
   "language": "python",
   "name": "python3"
  },
  "language_info": {
   "codemirror_mode": {
    "name": "ipython",
    "version": 3
   },
   "file_extension": ".py",
   "mimetype": "text/x-python",
   "name": "python",
   "nbconvert_exporter": "python",
   "pygments_lexer": "ipython3",
   "version": "3.6.1"
  }
 },
 "nbformat": 4,
 "nbformat_minor": 1
}
