{
 "cells": [
  {
   "cell_type": "markdown",
   "metadata": {},
   "source": [
    "# Assignment 4: Negamax with Alpha-Beta Pruning and Iterative Deepening"
   ]
  },
  {
   "cell_type": "markdown",
   "metadata": {},
   "source": [
    "# Table of Contents\n",
    "* [Assignment 4: Negamax with Alpha-Beta Pruning and Iterative Deepening](#Assignment-4:-Negamax-with-Alpha-Beta-Pruning-and-Iterative-Deepening)\n",
    "\t* [Initial Code](#Initial-Code)\n",
    "\t* [Add moves counter](#Add-moves-counter)\n",
    "\t* [negamaxIDS](#negamaxIDS)\n",
    "\t* [negamaxIDSab](#negamaxIDSab)\n"
   ]
  },
  {
   "cell_type": "markdown",
   "metadata": {},
   "source": [
    "For this assignment, I investigated the advantages of alpha-beta pruning applied to Tic-Tac-Toe. Alpha-beta pruning is a way to cut off extra searching by \"pruning\" branches that would be a worse result than the current node. In order to test what this means I implemented the `negamax` implementaiton of alpha-beta pruning.\n",
    "\n",
    "Negamax is similar to minimax, except that the max value is always returned and then negated. Each search it will find the best move for itself _or_ for its opponant (assuming it is playing vs the very best opponent).\n",
    "\n",
    "I will also call Negamax with Iterative Deepening Search that I have shown in previous assignments. I will compare the results below."
   ]
  },
  {
   "cell_type": "markdown",
   "metadata": {},
   "source": [
    "## Initial Code"
   ]
  },
  {
   "cell_type": "markdown",
   "metadata": {},
   "source": [
    "`negamax` will go through the depth given and recursively call itself looking for an end state. If no end state is found, or if game is over, return the utility of that state. In tic tac toe this is a -1 for loss, 1 for win, 0 for a non-ending move and `None` for a draw state.\n",
    "\n",
    "as negamax moves through the moves to see what the values will be, it keeps track of a best value by negating the value returned and checking against the previous best value"
   ]
  },
  {
   "cell_type": "code",
   "execution_count": 29,
   "metadata": {
    "collapsed": true
   },
   "outputs": [],
   "source": [
    "def negamax(game, depthLeft):\n",
    "    # If at terminal state or depth limit, return utility value and move None\n",
    "    if game.isOver() or depthLeft == 0:\n",
    "        return game.getUtility(), None # call to negamax knows the move\n",
    "    # Find best move and its value from current state\n",
    "    bestValue, bestMove = None, None\n",
    "    for move in game.getMoves():\n",
    "        # Apply a move to current state\n",
    "        game.makeMove(move)\n",
    "        # Use depth-first search to find eventual utility value and back it up.\n",
    "        #  Negate it because it will come back in context of next player\n",
    "        value, _ = negamax(game, depthLeft-1)\n",
    "        # Remove the move from current state, to prepare for trying a different move\n",
    "        game.unmakeMove(move)\n",
    "        if value is None:\n",
    "            continue\n",
    "        value = - value\n",
    "        if bestValue is None or value > bestValue:\n",
    "            # Value for this move is better than moves tried so far from this state.\n",
    "            bestValue, bestMove = value, move\n",
    "    return bestValue, bestMove"
   ]
  },
  {
   "cell_type": "markdown",
   "metadata": {},
   "source": [
    "`TTT` is the tic tac toe game class. It has a few helper functions for playing the game"
   ]
  },
  {
   "cell_type": "code",
   "execution_count": 30,
   "metadata": {
    "collapsed": true
   },
   "outputs": [],
   "source": [
    "class TTT(object):\n",
    "\n",
    "    def __init__(self):\n",
    "        self.board = [' ']*9 #create empty board\n",
    "        self.player = 'X' # player X goes first\n",
    "        if False: # debug code\n",
    "            self.board = ['O', 'X', 'X', 'O', 'O', ' ', ' ', 'X', ' ']\n",
    "            self.player = 'X'\n",
    "        self.playerLookAHead = self.player # next move is current player X\n",
    "        self.movesExplored = 0 # used to keep track of moves\n",
    "\n",
    "    def locations(self, c):\n",
    "        # find the amount of characters in the board\n",
    "        return [i for i, mark in enumerate(self.board) if mark == c]\n",
    "\n",
    "    def getMoves(self):\n",
    "        moves = self.locations(' ')\n",
    "        return moves\n",
    "\n",
    "    def getUtility(self):\n",
    "        # utility is the value of the current move, \n",
    "        # if it's a win state return 1, -1 for loss, 0 for any move and None if moves aren't available\n",
    "        whereX = self.locations('X')\n",
    "        whereO = self.locations('O')\n",
    "        wins = [[0, 1, 2], [3, 4, 5], [6, 7, 8],\n",
    "                [0, 3, 6], [1, 4, 7], [2, 5, 8],\n",
    "                [0, 4, 8], [2, 4, 6]]\n",
    "        isXWon = any([all([wi in whereX for wi in w]) for w in wins])\n",
    "        isOWon = any([all([wi in whereO for wi in w]) for w in wins])\n",
    "        if isXWon:\n",
    "            return 1 if self.playerLookAHead is 'X' else -1\n",
    "        elif isOWon:\n",
    "            return 1 if self.playerLookAHead is 'O' else -1\n",
    "        elif ' ' not in self.board:\n",
    "            return 0\n",
    "        else:\n",
    "            return None  ########################################################## CHANGED FROM -0.1\n",
    "\n",
    "    def isOver(self):\n",
    "        return self.getUtility() is not None\n",
    "\n",
    "    def getWinningValue(self):\n",
    "        # in tic tac toe, 1 is a winning value\n",
    "        return 1\n",
    "    \n",
    "    def getMovesExplored(self):\n",
    "        return self.movesExplored\n",
    "\n",
    "    def makeMove(self, move):\n",
    "        self.movesExplored += 1\n",
    "        self.board[move] = self.playerLookAHead\n",
    "        self.playerLookAHead = 'X' if self.playerLookAHead == 'O' else 'O'\n",
    "\n",
    "    def changePlayer(self):\n",
    "        self.player = 'X' if self.player == 'O' else 'O'\n",
    "        self.playerLookAHead = self.player\n",
    "\n",
    "    def unmakeMove(self, move):\n",
    "        self.board[move] = ' '\n",
    "        self.playerLookAHead = 'X' if self.playerLookAHead == 'O' else 'O'\n",
    "\n",
    "    def __str__(self):\n",
    "        s = '{}|{}|{}\\n-----\\n{}|{}|{}\\n-----\\n{}|{}|{}'.format(*self.board)\n",
    "        return s"
   ]
  },
  {
   "cell_type": "markdown",
   "metadata": {},
   "source": [
    "Below is a function `playGame` that runs a loop to calculate the negamax move for the first player, and a simple move (fill in first blank) for second player. Output below."
   ]
  },
  {
   "cell_type": "code",
   "execution_count": 31,
   "metadata": {
    "collapsed": true
   },
   "outputs": [],
   "source": [
    "def opponent(board):\n",
    "    return board.index(' ') # opponent is simple and just places an O in the first blank\n",
    "\n",
    "def playGame(game,opponent,depthLimit):\n",
    "    \"\"\" plays the game using negamax\n",
    "    prints values of steps along the way to show the game progressing\"\"\"\n",
    "    print(game)\n",
    "    while not game.isOver():\n",
    "        score,move = negamax(game,depthLimit)\n",
    "        if move == None :\n",
    "            print('move is None. Stopping.')\n",
    "            break\n",
    "        game.makeMove(move)\n",
    "        print('Player', game.player, 'to', move, 'for score' ,score)\n",
    "        print(game)\n",
    "        if not game.isOver():\n",
    "            game.changePlayer()\n",
    "            opponentMove = opponent(game.board)\n",
    "            game.makeMove(opponentMove)\n",
    "            print('Player', game.player, 'to', opponentMove)\n",
    "            print(game)\n",
    "            game.changePlayer()"
   ]
  },
  {
   "cell_type": "code",
   "execution_count": 32,
   "metadata": {},
   "outputs": [
    {
     "name": "stdout",
     "output_type": "stream",
     "text": [
      " | | \n",
      "-----\n",
      " | | \n",
      "-----\n",
      " | | \n",
      "Player X to 0 for score 0\n",
      "X| | \n",
      "-----\n",
      " | | \n",
      "-----\n",
      " | | \n",
      "Player O to 1\n",
      "X|O| \n",
      "-----\n",
      " | | \n",
      "-----\n",
      " | | \n",
      "Player X to 3 for score 1\n",
      "X|O| \n",
      "-----\n",
      "X| | \n",
      "-----\n",
      " | | \n",
      "Player O to 2\n",
      "X|O|O\n",
      "-----\n",
      "X| | \n",
      "-----\n",
      " | | \n",
      "Player X to 4 for score 1\n",
      "X|O|O\n",
      "-----\n",
      "X|X| \n",
      "-----\n",
      " | | \n",
      "Player O to 5\n",
      "X|O|O\n",
      "-----\n",
      "X|X|O\n",
      "-----\n",
      " | | \n",
      "Player X to 6 for score 1\n",
      "X|O|O\n",
      "-----\n",
      "X|X|O\n",
      "-----\n",
      "X| | \n"
     ]
    },
    {
     "data": {
      "text/plain": [
       "558334"
      ]
     },
     "execution_count": 32,
     "metadata": {},
     "output_type": "execute_result"
    }
   ],
   "source": [
    "game = TTT()\n",
    "# print(game.getUtility())\n",
    "playGame(game,opponent,20)\n",
    "game.getMovesExplored()"
   ]
  },
  {
   "cell_type": "markdown",
   "metadata": {},
   "source": [
    "## Iterative Deepening Search\n",
    "\n",
    "Player one could make better moves. Let's use iterative deepening search to find the best moves and get a nicer victory -- instead of just playing the game, IDS will find the most shallow win route similar to previous assignments -- this will significantly reduce the number of moves we have to explore. Essentially, once the move of 1 is returned, we don't need to search any more!"
   ]
  },
  {
   "cell_type": "code",
   "execution_count": 33,
   "metadata": {
    "collapsed": true
   },
   "outputs": [],
   "source": [
    "def negamaxIDS(game, maxDepth):\n",
    "    \"\"\" combine negamax with an iterative deepening search range(1, maxDepth)\"\"\"\n",
    "    \n",
    "    bestScore = -float('infinity') # keep track of the best move found\n",
    "    bestMove = None # initial best move is nothing\n",
    "    \n",
    "    for depth in range(1, maxDepth):\n",
    "        score, move = negamax(game, depth)\n",
    "        if (score != None and bestScore < score):\n",
    "            bestScore = score\n",
    "            bestMove = move\n",
    "        \n",
    "        if (move == None):\n",
    "            continue\n",
    "        \n",
    "        if (score == game.getWinningValue()):\n",
    "            return (score, move) # we like winning, return\n",
    "        \n",
    "    return (bestScore, bestMove) # if nothing was found that is a win, return best found so far"
   ]
  },
  {
   "cell_type": "code",
   "execution_count": 34,
   "metadata": {
    "collapsed": true
   },
   "outputs": [],
   "source": [
    "def playGameIDS(game,opponent,depthLimit):\n",
    "    \"\"\" same as playgame but calls negamaxIDS\"\"\"\n",
    "    print(game)\n",
    "    while not game.isOver():\n",
    "        score,move = negamaxIDS(game,depthLimit)\n",
    "        if move == None :\n",
    "            print('move is None. Stopping.')\n",
    "            break\n",
    "        game.makeMove(move)\n",
    "        print('Player', game.player, 'to', move, 'for score' ,score)\n",
    "        print(game)\n",
    "        if not game.isOver():\n",
    "            game.changePlayer()\n",
    "            opponentMove = opponent(game.board)\n",
    "            game.makeMove(opponentMove)\n",
    "            print('Player', game.player, 'to', opponentMove)\n",
    "            print(game)\n",
    "            game.changePlayer()"
   ]
  },
  {
   "cell_type": "code",
   "execution_count": 35,
   "metadata": {},
   "outputs": [
    {
     "name": "stdout",
     "output_type": "stream",
     "text": [
      " | | \n",
      "-----\n",
      " | | \n",
      "-----\n",
      " | | \n",
      "Player X to 0 for score 1\n",
      "X| | \n",
      "-----\n",
      " | | \n",
      "-----\n",
      " | | \n",
      "Player O to 1\n",
      "X|O| \n",
      "-----\n",
      " | | \n",
      "-----\n",
      " | | \n",
      "Player X to 3 for score 1\n",
      "X|O| \n",
      "-----\n",
      "X| | \n",
      "-----\n",
      " | | \n",
      "Player O to 2\n",
      "X|O|O\n",
      "-----\n",
      "X| | \n",
      "-----\n",
      " | | \n",
      "Player X to 6 for score 1\n",
      "X|O|O\n",
      "-----\n",
      "X| | \n",
      "-----\n",
      "X| | \n"
     ]
    },
    {
     "data": {
      "text/plain": [
       "23338"
      ]
     },
     "execution_count": 35,
     "metadata": {},
     "output_type": "execute_result"
    }
   ],
   "source": [
    "game = TTT()\n",
    "playGameIDS(game,opponent,20)\n",
    "game.getMovesExplored()"
   ]
  },
  {
   "cell_type": "markdown",
   "metadata": {},
   "source": [
    "Phew! A better more 'obvious' win! Let me try to explain what happens: There is no need to explore other nodes if a win is only 1 move away (like the last move for player one). This can cut down on some of the searching and the number of moves explored. We can do even better though!"
   ]
  },
  {
   "cell_type": "markdown",
   "metadata": {},
   "source": [
    "## Moves counter"
   ]
  },
  {
   "cell_type": "markdown",
   "metadata": {},
   "source": [
    "In order to evaluate the efficiency of the search, I kept track of the number of nodes explored, which is the same as the number of moves explored during a game. I did this by adding a counter named `movesExplored` to the `TTT` constructor where it is initialized to 0 and incremented the counter in the `TTT.makeMove` method.  The method `ttt.getMovesExplored()` gets the current value. You can see the output at the end of the above example."
   ]
  },
  {
   "cell_type": "markdown",
   "metadata": {},
   "source": [
    "## negamaxIDSab"
   ]
  },
  {
   "cell_type": "markdown",
   "metadata": {},
   "source": [
    "Ok time for the main event. The following function is a copy of the negamaxIDS but this time cuts down on extra searching by using alpha-beta pruning."
   ]
  },
  {
   "cell_type": "code",
   "execution_count": 36,
   "metadata": {},
   "outputs": [],
   "source": [
    "def negamaxAB(alpha, beta, game, depthLeft):    \n",
    "    if game.isOver() or depthLeft == 0:       \n",
    "        return game.getUtility(), None\n",
    "    \n",
    "    bestValue, bestMove = -float('infinity'), None\n",
    "    for move in game.getMoves():\n",
    "        game.makeMove(move)\n",
    "        value, _ = negamaxAB(-beta, -alpha, game, depthLeft-1) # swap and negate the values\n",
    "        game.unmakeMove(move)\n",
    "        \n",
    "        if value is None:\n",
    "            continue\n",
    "            \n",
    "        value = - value\n",
    "        if (value > bestValue):\n",
    "            bestValue = value\n",
    "            bestMove = move\n",
    "        \n",
    "        alpha = max(alpha, value)\n",
    "        if (alpha >= beta):\n",
    "            break\n",
    "            \n",
    "    return bestValue, bestMove\n",
    "\n",
    "def negamaxIDSab(game, maxDepth):\n",
    "    alpha = -float('infinity')\n",
    "    beta = float('infinity')\n",
    "    \n",
    "    for depth in range(1, maxDepth):\n",
    "        score, move = negamaxAB(alpha, beta, game, depth)\n",
    "        \n",
    "        if (move == None):\n",
    "            continue\n",
    "        \n",
    "        if (score == game.getWinningValue()):\n",
    "            return (score, move)\n",
    "        \n",
    "    return (alpha, move)"
   ]
  },
  {
   "cell_type": "code",
   "execution_count": 37,
   "metadata": {},
   "outputs": [
    {
     "data": {
      "text/plain": [
       "(0, 0)"
      ]
     },
     "execution_count": 37,
     "metadata": {},
     "output_type": "execute_result"
    }
   ],
   "source": [
    "game = TTT()\n",
    "negamaxAB(-float('infinity'), float('infinity'), game, 20)"
   ]
  },
  {
   "cell_type": "code",
   "execution_count": 38,
   "metadata": {},
   "outputs": [],
   "source": [
    "def playGameIDSab(game,opponent,depthLimit):\n",
    "    \"\"\" same as playgame but calls into negamaxIDSab\"\"\"\n",
    "    print(game)\n",
    "    while not game.isOver():\n",
    "        score,move = negamaxIDSab(game,depthLimit)\n",
    "        if move == None :\n",
    "            print('move is None. Stopping.')\n",
    "            break\n",
    "        game.makeMove(move)\n",
    "        print('Player', game.player, 'to', move, 'for score' , -score)\n",
    "        print(game)\n",
    "        if not game.isOver():\n",
    "            game.changePlayer()\n",
    "            opponentMove = opponent(game.board)\n",
    "            game.makeMove(opponentMove)\n",
    "            print('Player', game.player, 'to', opponentMove)\n",
    "            print(game)\n",
    "            game.changePlayer()"
   ]
  },
  {
   "cell_type": "code",
   "execution_count": 39,
   "metadata": {},
   "outputs": [
    {
     "name": "stdout",
     "output_type": "stream",
     "text": [
      " | | \n",
      "-----\n",
      " | | \n",
      "-----\n",
      " | | \n",
      "Player X to 0 for score -1\n",
      "X| | \n",
      "-----\n",
      " | | \n",
      "-----\n",
      " | | \n",
      "Player O to 1\n",
      "X|O| \n",
      "-----\n",
      " | | \n",
      "-----\n",
      " | | \n",
      "Player X to 3 for score -1\n",
      "X|O| \n",
      "-----\n",
      "X| | \n",
      "-----\n",
      " | | \n",
      "Player O to 2\n",
      "X|O|O\n",
      "-----\n",
      "X| | \n",
      "-----\n",
      " | | \n",
      "Player X to 6 for score -1\n",
      "X|O|O\n",
      "-----\n",
      "X| | \n",
      "-----\n",
      "X| | \n"
     ]
    },
    {
     "data": {
      "text/plain": [
       "20804"
      ]
     },
     "execution_count": 39,
     "metadata": {},
     "output_type": "execute_result"
    }
   ],
   "source": [
    "game = TTT()\n",
    "playGameIDSab(game, opponent, 20)\n",
    "game.getMovesExplored()"
   ]
  },
  {
   "cell_type": "markdown",
   "metadata": {},
   "source": [
    "Excellent. The IDS with alpha-beta pruning found the result in even fewer expanded nodes due to the fact that any path that has a option for the oposing player to win won't be explored. The assumption is that the opposing player would make that move and that makes all other paths useless."
   ]
  },
  {
   "cell_type": "markdown",
   "metadata": {},
   "source": [
    "## Play game!"
   ]
  },
  {
   "cell_type": "markdown",
   "metadata": {},
   "source": [
    "This function will play the game for the three different functions (`negamax`, `negamaxIDS`, and `negamaxIDSab`). At the end of the games, it prints out the number of X's, the number of moves explored, the depth of the game, and the effective branching factor. "
   ]
  },
  {
   "cell_type": "code",
   "execution_count": 40,
   "metadata": {},
   "outputs": [],
   "source": [
    "def ebf(nNodes, depth, precision=0.01):\n",
    "    \"\"\" calcluate the effective branching factor to a precision value\"\"\"\n",
    "    if nNodes == 0:\n",
    "        return 0\n",
    "\n",
    "    def ebfRec(low, high):\n",
    "        mid = (low + high) * 0.5\n",
    "        if mid == 1:\n",
    "            estimate = 1 + depth\n",
    "        else:\n",
    "            estimate = (1 - mid**(depth + 1)) / (1 - mid)\n",
    "        if abs(estimate - nNodes) < precision:\n",
    "            return mid\n",
    "        if estimate > nNodes:\n",
    "            return ebfRec(low, mid)\n",
    "        else:\n",
    "            return ebfRec(mid, high)\n",
    "\n",
    "    return ebfRec(1, nNodes)\n",
    "\n",
    "def playGames(opponent, depth):\n",
    "    \"\"\" play 3 games of tic tac toe with the different algorithms: negamax, negamax with iterative deepening\n",
    "    and negamax with iterative deepening and alpha-beta pruning. prints results \"\"\"\n",
    "    game = TTT()\n",
    "    playGame(game, opponent, depth)\n",
    "    depthExplored = len(game.locations('X')) + len(game.locations('O'))\n",
    "    print('\\n\\n')\n",
    "    \n",
    "    game2 = TTT()\n",
    "    playGameIDS(game2, opponent, depth)\n",
    "    print('\\n\\n')\n",
    "    \n",
    "    game3 = TTT()\n",
    "    playGameIDSab(game3, opponent, depth)\n",
    "    print('\\n\\n')\n",
    "    \n",
    "    print('negamax made {} moves. {} moves explored for ebf({}, {}) of {}'\n",
    "          .format(len(game.locations('X')), game.getMovesExplored(), \n",
    "                      game.getMovesExplored(), depthExplored, ebf(game.getMovesExplored(), depthExplored)))\n",
    "          \n",
    "    depthExplored2 = len(game2.locations('X')) + len(game2.locations('O'))\n",
    "    print('negamaxIDS made {} moves. {} moves explored for ebf({}, {}) of {}'\n",
    "          .format(len(game2.locations('X')), game2.getMovesExplored(), \n",
    "                      game2.getMovesExplored(), depthExplored2, ebf(game2.getMovesExplored(), depthExplored2)))\n",
    "    \n",
    "    depthExplored3 = len(game3.locations('X')) + len(game3.locations('O'))\n",
    "    print('negamaxIDSab made {} moves. {} moves explored for ebf({}, {}) of {}'\n",
    "          .format(len(game3.locations('X')), game3.getMovesExplored(), \n",
    "                      game3.getMovesExplored(), depthExplored3, ebf(game3.getMovesExplored(), depthExplored3)))\n",
    "    "
   ]
  },
  {
   "cell_type": "code",
   "execution_count": 41,
   "metadata": {},
   "outputs": [
    {
     "name": "stdout",
     "output_type": "stream",
     "text": [
      " | | \n",
      "-----\n",
      " | | \n",
      "-----\n",
      " | | \n",
      "Player X to 0 for score 0\n",
      "X| | \n",
      "-----\n",
      " | | \n",
      "-----\n",
      " | | \n",
      "Player O to 1\n",
      "X|O| \n",
      "-----\n",
      " | | \n",
      "-----\n",
      " | | \n",
      "Player X to 3 for score 1\n",
      "X|O| \n",
      "-----\n",
      "X| | \n",
      "-----\n",
      " | | \n",
      "Player O to 2\n",
      "X|O|O\n",
      "-----\n",
      "X| | \n",
      "-----\n",
      " | | \n",
      "Player X to 4 for score 1\n",
      "X|O|O\n",
      "-----\n",
      "X|X| \n",
      "-----\n",
      " | | \n",
      "Player O to 5\n",
      "X|O|O\n",
      "-----\n",
      "X|X|O\n",
      "-----\n",
      " | | \n",
      "Player X to 6 for score 1\n",
      "X|O|O\n",
      "-----\n",
      "X|X|O\n",
      "-----\n",
      "X| | \n",
      "\n",
      "\n",
      "\n",
      " | | \n",
      "-----\n",
      " | | \n",
      "-----\n",
      " | | \n",
      "Player X to 0 for score 1\n",
      "X| | \n",
      "-----\n",
      " | | \n",
      "-----\n",
      " | | \n",
      "Player O to 1\n",
      "X|O| \n",
      "-----\n",
      " | | \n",
      "-----\n",
      " | | \n",
      "Player X to 3 for score 1\n",
      "X|O| \n",
      "-----\n",
      "X| | \n",
      "-----\n",
      " | | \n",
      "Player O to 2\n",
      "X|O|O\n",
      "-----\n",
      "X| | \n",
      "-----\n",
      " | | \n",
      "Player X to 6 for score 1\n",
      "X|O|O\n",
      "-----\n",
      "X| | \n",
      "-----\n",
      "X| | \n",
      "\n",
      "\n",
      "\n",
      " | | \n",
      "-----\n",
      " | | \n",
      "-----\n",
      " | | \n",
      "Player X to 0 for score -1\n",
      "X| | \n",
      "-----\n",
      " | | \n",
      "-----\n",
      " | | \n",
      "Player O to 1\n",
      "X|O| \n",
      "-----\n",
      " | | \n",
      "-----\n",
      " | | \n",
      "Player X to 3 for score -1\n",
      "X|O| \n",
      "-----\n",
      "X| | \n",
      "-----\n",
      " | | \n",
      "Player O to 2\n",
      "X|O|O\n",
      "-----\n",
      "X| | \n",
      "-----\n",
      " | | \n",
      "Player X to 6 for score -1\n",
      "X|O|O\n",
      "-----\n",
      "X| | \n",
      "-----\n",
      "X| | \n",
      "\n",
      "\n",
      "\n",
      "negamax made 4 moves. 558334 moves explored for ebf(558334, 7) of 6.46486057422959\n",
      "negamaxIDS made 3 moves. 23338 moves explored for ebf(23338, 5) of 7.256619912863243\n",
      "negamaxIDSab made 3 moves. 20804 moves explored for ebf(20804, 5) of 7.0862546057323925\n"
     ]
    }
   ],
   "source": [
    "playGames(opponent, 25)"
   ]
  },
  {
   "cell_type": "markdown",
   "metadata": {},
   "source": [
    "## Conclusion"
   ]
  },
  {
   "cell_type": "markdown",
   "metadata": {},
   "source": [
    "As the results show, negamax with alpha-beta pruning and iterative deepening has the lowest effective branching factor and explores the fewest amount of nodes. The results on the different algroithms in terms of total moves made are the same for iterative deepening. I imagine more complicated games would benefit much more from a total-moves standpoint when regarding iterative deepening vs not.\n",
    "\n",
    "I had results that had negamax with even fewer nodes explored, closer to the professor's answer of ~6k explored. However, when I looked at the values for alpha/beta they weren't updating correctly. The current implementation of `negamaxAB` is more in-line with what the pseudocode in the book or found [here](https://en.wikipedia.org/wiki/Negamax#Negamax_with_alpha_beta_pruning), even though the results aren't as dramatic now.\n",
    "\n",
    "Alpha beta pruning makes a lot of sense in a zero sum game like tic-tac-toe. There is a lot of wasted effort that can go into exploring, especially when you consider some of the odd game states that might occur where many substates could be explored even though the winning or losing solution is on the very first depth. The iterative deepening nature of the search prevents a lof of those nodes from being explored, but alpha-beta pruning teams up for even better results."
   ]
  }
 ],
 "metadata": {
  "kernelspec": {
   "display_name": "Python 3",
   "language": "python",
   "name": "python3"
  },
  "language_info": {
   "codemirror_mode": {
    "name": "ipython",
    "version": 3
   },
   "file_extension": ".py",
   "mimetype": "text/x-python",
   "name": "python",
   "nbconvert_exporter": "python",
   "pygments_lexer": "ipython3",
   "version": "3.6.1"
  }
 },
 "nbformat": 4,
 "nbformat_minor": 2
}
